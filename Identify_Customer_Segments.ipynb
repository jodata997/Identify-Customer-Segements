{
 "cells": [
  {
   "cell_type": "markdown",
   "metadata": {},
   "source": [
    "# Project: Identify Customer Segments\n",
    "\n",
    "In this project, you will apply unsupervised learning techniques to identify segments of the population that form the core customer base for a mail-order sales company in Germany. These segments can then be used to direct marketing campaigns towards audiences that will have the highest expected rate of returns. The data that you will use has been provided by our partners at Bertelsmann Arvato Analytics, and represents a real-life data science task.\n",
    "\n",
    "This notebook will help you complete this task by providing a framework within which you will perform your analysis steps. In each step of the project, you will see some text describing the subtask that you will perform, followed by one or more code cells for you to complete your work. **Feel free to add additional code and markdown cells as you go along so that you can explore everything in precise chunks.** The code cells provided in the base template will outline only the major tasks, and will usually not be enough to cover all of the minor tasks that comprise it.\n",
    "\n",
    "It should be noted that while there will be precise guidelines on how you should handle certain tasks in the project, there will also be places where an exact specification is not provided. **There will be times in the project where you will need to make and justify your own decisions on how to treat the data.** These are places where there may not be only one way to handle the data. In real-life tasks, there may be many valid ways to approach an analysis task. One of the most important things you can do is clearly document your approach so that other scientists can understand the decisions you've made.\n",
    "\n",
    "At the end of most sections, there will be a Markdown cell labeled **Discussion**. In these cells, you will report your findings for the completed section, as well as document the decisions that you made in your approach to each subtask. **Your project will be evaluated not just on the code used to complete the tasks outlined, but also your communication about your observations and conclusions at each stage.**"
   ]
  },
  {
   "cell_type": "code",
   "execution_count": 86,
   "metadata": {},
   "outputs": [
    {
     "data": {
      "text/plain": [
       "'\\nImport note: The classroom currently uses sklearn version 0.19.\\nIf you need to use an imputer, it is available in sklearn.preprocessing.Imputer,\\ninstead of sklearn.impute as in newer versions of sklearn.\\n'"
      ]
     },
     "execution_count": 86,
     "metadata": {},
     "output_type": "execute_result"
    }
   ],
   "source": [
    "# import libraries here; add more as necessary\n",
    "import numpy as np\n",
    "import pandas as pd\n",
    "import matplotlib.pyplot as plt\n",
    "import seaborn as sns\n",
    "\n",
    "from sklearn.preprocessing import OneHotEncoder, StandardScaler, Imputer\n",
    "from sklearn.decomposition import PCA\n",
    "from sklearn.cluster import KMeans\n",
    "\n",
    "# magic word for producing visualizations in notebook\n",
    "%matplotlib inline\n",
    "\n",
    "'''\n",
    "Import note: The classroom currently uses sklearn version 0.19.\n",
    "If you need to use an imputer, it is available in sklearn.preprocessing.Imputer,\n",
    "instead of sklearn.impute as in newer versions of sklearn.\n",
    "'''"
   ]
  },
  {
   "cell_type": "markdown",
   "metadata": {},
   "source": [
    "### Step 0: Load the Data\n",
    "\n",
    "There are four files associated with this project (not including this one):\n",
    "\n",
    "- `Udacity_AZDIAS_Subset.csv`: Demographics data for the general population of Germany; 891211 persons (rows) x 85 features (columns).\n",
    "- `Udacity_CUSTOMERS_Subset.csv`: Demographics data for customers of a mail-order company; 191652 persons (rows) x 85 features (columns).\n",
    "- `Data_Dictionary.md`: Detailed information file about the features in the provided datasets.\n",
    "- `AZDIAS_Feature_Summary.csv`: Summary of feature attributes for demographics data; 85 features (rows) x 4 columns\n",
    "\n",
    "Each row of the demographics files represents a single person, but also includes information outside of individuals, including information about their household, building, and neighborhood. You will use this information to cluster the general population into groups with similar demographic properties. Then, you will see how the people in the customers dataset fit into those created clusters. The hope here is that certain clusters are over-represented in the customers data, as compared to the general population; those over-represented clusters will be assumed to be part of the core userbase. This information can then be used for further applications, such as targeting for a marketing campaign.\n",
    "\n",
    "To start off with, load in the demographics data for the general population into a pandas DataFrame, and do the same for the feature attributes summary. Note for all of the `.csv` data files in this project: they're semicolon (`;`) delimited, so you'll need an additional argument in your [`read_csv()`](https://pandas.pydata.org/pandas-docs/stable/generated/pandas.read_csv.html) call to read in the data properly. Also, considering the size of the main dataset, it may take some time for it to load completely.\n",
    "\n",
    "Once the dataset is loaded, it's recommended that you take a little bit of time just browsing the general structure of the dataset and feature summary file. You'll be getting deep into the innards of the cleaning in the first major step of the project, so gaining some general familiarity can help you get your bearings."
   ]
  },
  {
   "cell_type": "code",
   "execution_count": 87,
   "metadata": {},
   "outputs": [],
   "source": [
    "# Load in the general demographics data.\n",
    "azdias = pd.read_csv(\"Udacity_AZDIAS_Subset.csv\", sep = \";\")\n",
    "\n",
    "# Load in the feature summary file.\n",
    "feat_info = pd.read_csv(\"AZDIAS_Feature_Summary.csv\", sep = \";\")"
   ]
  },
  {
   "cell_type": "code",
   "execution_count": 88,
   "metadata": {},
   "outputs": [
    {
     "name": "stdout",
     "output_type": "stream",
     "text": [
      "<class 'pandas.core.frame.DataFrame'>\n",
      "RangeIndex: 891221 entries, 0 to 891220\n",
      "Data columns (total 85 columns):\n",
      "AGER_TYP                 891221 non-null int64\n",
      "ALTERSKATEGORIE_GROB     891221 non-null int64\n",
      "ANREDE_KZ                891221 non-null int64\n",
      "CJT_GESAMTTYP            886367 non-null float64\n",
      "FINANZ_MINIMALIST        891221 non-null int64\n",
      "FINANZ_SPARER            891221 non-null int64\n",
      "FINANZ_VORSORGER         891221 non-null int64\n",
      "FINANZ_ANLEGER           891221 non-null int64\n",
      "FINANZ_UNAUFFAELLIGER    891221 non-null int64\n",
      "FINANZ_HAUSBAUER         891221 non-null int64\n",
      "FINANZTYP                891221 non-null int64\n",
      "GEBURTSJAHR              891221 non-null int64\n",
      "GFK_URLAUBERTYP          886367 non-null float64\n",
      "GREEN_AVANTGARDE         891221 non-null int64\n",
      "HEALTH_TYP               891221 non-null int64\n",
      "LP_LEBENSPHASE_FEIN      886367 non-null float64\n",
      "LP_LEBENSPHASE_GROB      886367 non-null float64\n",
      "LP_FAMILIE_FEIN          886367 non-null float64\n",
      "LP_FAMILIE_GROB          886367 non-null float64\n",
      "LP_STATUS_FEIN           886367 non-null float64\n",
      "LP_STATUS_GROB           886367 non-null float64\n",
      "NATIONALITAET_KZ         891221 non-null int64\n",
      "PRAEGENDE_JUGENDJAHRE    891221 non-null int64\n",
      "RETOURTYP_BK_S           886367 non-null float64\n",
      "SEMIO_SOZ                891221 non-null int64\n",
      "SEMIO_FAM                891221 non-null int64\n",
      "SEMIO_REL                891221 non-null int64\n",
      "SEMIO_MAT                891221 non-null int64\n",
      "SEMIO_VERT               891221 non-null int64\n",
      "SEMIO_LUST               891221 non-null int64\n",
      "SEMIO_ERL                891221 non-null int64\n",
      "SEMIO_KULT               891221 non-null int64\n",
      "SEMIO_RAT                891221 non-null int64\n",
      "SEMIO_KRIT               891221 non-null int64\n",
      "SEMIO_DOM                891221 non-null int64\n",
      "SEMIO_KAEM               891221 non-null int64\n",
      "SEMIO_PFLICHT            891221 non-null int64\n",
      "SEMIO_TRADV              891221 non-null int64\n",
      "SHOPPER_TYP              891221 non-null int64\n",
      "SOHO_KZ                  817722 non-null float64\n",
      "TITEL_KZ                 817722 non-null float64\n",
      "VERS_TYP                 891221 non-null int64\n",
      "ZABEOTYP                 891221 non-null int64\n",
      "ALTER_HH                 817722 non-null float64\n",
      "ANZ_PERSONEN             817722 non-null float64\n",
      "ANZ_TITEL                817722 non-null float64\n",
      "HH_EINKOMMEN_SCORE       872873 non-null float64\n",
      "KK_KUNDENTYP             306609 non-null float64\n",
      "W_KEIT_KIND_HH           783619 non-null float64\n",
      "WOHNDAUER_2008           817722 non-null float64\n",
      "ANZ_HAUSHALTE_AKTIV      798073 non-null float64\n",
      "ANZ_HH_TITEL             794213 non-null float64\n",
      "GEBAEUDETYP              798073 non-null float64\n",
      "KONSUMNAEHE              817252 non-null float64\n",
      "MIN_GEBAEUDEJAHR         798073 non-null float64\n",
      "OST_WEST_KZ              798073 non-null object\n",
      "WOHNLAGE                 798073 non-null float64\n",
      "CAMEO_DEUG_2015          792242 non-null object\n",
      "CAMEO_DEU_2015           792242 non-null object\n",
      "CAMEO_INTL_2015          792242 non-null object\n",
      "KBA05_ANTG1              757897 non-null float64\n",
      "KBA05_ANTG2              757897 non-null float64\n",
      "KBA05_ANTG3              757897 non-null float64\n",
      "KBA05_ANTG4              757897 non-null float64\n",
      "KBA05_BAUMAX             757897 non-null float64\n",
      "KBA05_GBZ                757897 non-null float64\n",
      "BALLRAUM                 797481 non-null float64\n",
      "EWDICHTE                 797481 non-null float64\n",
      "INNENSTADT               797481 non-null float64\n",
      "GEBAEUDETYP_RASTER       798066 non-null float64\n",
      "KKK                      770025 non-null float64\n",
      "MOBI_REGIO               757897 non-null float64\n",
      "ONLINE_AFFINITAET        886367 non-null float64\n",
      "REGIOTYP                 770025 non-null float64\n",
      "KBA13_ANZAHL_PKW         785421 non-null float64\n",
      "PLZ8_ANTG1               774706 non-null float64\n",
      "PLZ8_ANTG2               774706 non-null float64\n",
      "PLZ8_ANTG3               774706 non-null float64\n",
      "PLZ8_ANTG4               774706 non-null float64\n",
      "PLZ8_BAUMAX              774706 non-null float64\n",
      "PLZ8_HHZ                 774706 non-null float64\n",
      "PLZ8_GBZ                 774706 non-null float64\n",
      "ARBEIT                   794005 non-null float64\n",
      "ORTSGR_KLS9              794005 non-null float64\n",
      "RELAT_AB                 794005 non-null float64\n",
      "dtypes: float64(49), int64(32), object(4)\n",
      "memory usage: 578.0+ MB\n"
     ]
    }
   ],
   "source": [
    "# Check the structure of the data after it's loaded (e.g. print the number of\n",
    "# rows and columns, print the first few rows).\n",
    "\n",
    "azdias.info()\n"
   ]
  },
  {
   "cell_type": "code",
   "execution_count": 89,
   "metadata": {},
   "outputs": [
    {
     "data": {
      "text/html": [
       "<div>\n",
       "<style scoped>\n",
       "    .dataframe tbody tr th:only-of-type {\n",
       "        vertical-align: middle;\n",
       "    }\n",
       "\n",
       "    .dataframe tbody tr th {\n",
       "        vertical-align: top;\n",
       "    }\n",
       "\n",
       "    .dataframe thead th {\n",
       "        text-align: right;\n",
       "    }\n",
       "</style>\n",
       "<table border=\"1\" class=\"dataframe\">\n",
       "  <thead>\n",
       "    <tr style=\"text-align: right;\">\n",
       "      <th></th>\n",
       "      <th>AGER_TYP</th>\n",
       "      <th>ALTERSKATEGORIE_GROB</th>\n",
       "      <th>ANREDE_KZ</th>\n",
       "      <th>CJT_GESAMTTYP</th>\n",
       "      <th>FINANZ_MINIMALIST</th>\n",
       "      <th>FINANZ_SPARER</th>\n",
       "      <th>FINANZ_VORSORGER</th>\n",
       "      <th>FINANZ_ANLEGER</th>\n",
       "      <th>FINANZ_UNAUFFAELLIGER</th>\n",
       "      <th>FINANZ_HAUSBAUER</th>\n",
       "      <th>...</th>\n",
       "      <th>PLZ8_ANTG1</th>\n",
       "      <th>PLZ8_ANTG2</th>\n",
       "      <th>PLZ8_ANTG3</th>\n",
       "      <th>PLZ8_ANTG4</th>\n",
       "      <th>PLZ8_BAUMAX</th>\n",
       "      <th>PLZ8_HHZ</th>\n",
       "      <th>PLZ8_GBZ</th>\n",
       "      <th>ARBEIT</th>\n",
       "      <th>ORTSGR_KLS9</th>\n",
       "      <th>RELAT_AB</th>\n",
       "    </tr>\n",
       "  </thead>\n",
       "  <tbody>\n",
       "    <tr>\n",
       "      <th>0</th>\n",
       "      <td>-1</td>\n",
       "      <td>2</td>\n",
       "      <td>1</td>\n",
       "      <td>2.0</td>\n",
       "      <td>3</td>\n",
       "      <td>4</td>\n",
       "      <td>3</td>\n",
       "      <td>5</td>\n",
       "      <td>5</td>\n",
       "      <td>3</td>\n",
       "      <td>...</td>\n",
       "      <td>NaN</td>\n",
       "      <td>NaN</td>\n",
       "      <td>NaN</td>\n",
       "      <td>NaN</td>\n",
       "      <td>NaN</td>\n",
       "      <td>NaN</td>\n",
       "      <td>NaN</td>\n",
       "      <td>NaN</td>\n",
       "      <td>NaN</td>\n",
       "      <td>NaN</td>\n",
       "    </tr>\n",
       "    <tr>\n",
       "      <th>1</th>\n",
       "      <td>-1</td>\n",
       "      <td>1</td>\n",
       "      <td>2</td>\n",
       "      <td>5.0</td>\n",
       "      <td>1</td>\n",
       "      <td>5</td>\n",
       "      <td>2</td>\n",
       "      <td>5</td>\n",
       "      <td>4</td>\n",
       "      <td>5</td>\n",
       "      <td>...</td>\n",
       "      <td>2.0</td>\n",
       "      <td>3.0</td>\n",
       "      <td>2.0</td>\n",
       "      <td>1.0</td>\n",
       "      <td>1.0</td>\n",
       "      <td>5.0</td>\n",
       "      <td>4.0</td>\n",
       "      <td>3.0</td>\n",
       "      <td>5.0</td>\n",
       "      <td>4.0</td>\n",
       "    </tr>\n",
       "    <tr>\n",
       "      <th>2</th>\n",
       "      <td>-1</td>\n",
       "      <td>3</td>\n",
       "      <td>2</td>\n",
       "      <td>3.0</td>\n",
       "      <td>1</td>\n",
       "      <td>4</td>\n",
       "      <td>1</td>\n",
       "      <td>2</td>\n",
       "      <td>3</td>\n",
       "      <td>5</td>\n",
       "      <td>...</td>\n",
       "      <td>3.0</td>\n",
       "      <td>3.0</td>\n",
       "      <td>1.0</td>\n",
       "      <td>0.0</td>\n",
       "      <td>1.0</td>\n",
       "      <td>4.0</td>\n",
       "      <td>4.0</td>\n",
       "      <td>3.0</td>\n",
       "      <td>5.0</td>\n",
       "      <td>2.0</td>\n",
       "    </tr>\n",
       "    <tr>\n",
       "      <th>3</th>\n",
       "      <td>2</td>\n",
       "      <td>4</td>\n",
       "      <td>2</td>\n",
       "      <td>2.0</td>\n",
       "      <td>4</td>\n",
       "      <td>2</td>\n",
       "      <td>5</td>\n",
       "      <td>2</td>\n",
       "      <td>1</td>\n",
       "      <td>2</td>\n",
       "      <td>...</td>\n",
       "      <td>2.0</td>\n",
       "      <td>2.0</td>\n",
       "      <td>2.0</td>\n",
       "      <td>0.0</td>\n",
       "      <td>1.0</td>\n",
       "      <td>3.0</td>\n",
       "      <td>4.0</td>\n",
       "      <td>2.0</td>\n",
       "      <td>3.0</td>\n",
       "      <td>3.0</td>\n",
       "    </tr>\n",
       "    <tr>\n",
       "      <th>4</th>\n",
       "      <td>-1</td>\n",
       "      <td>3</td>\n",
       "      <td>1</td>\n",
       "      <td>5.0</td>\n",
       "      <td>4</td>\n",
       "      <td>3</td>\n",
       "      <td>4</td>\n",
       "      <td>1</td>\n",
       "      <td>3</td>\n",
       "      <td>2</td>\n",
       "      <td>...</td>\n",
       "      <td>2.0</td>\n",
       "      <td>4.0</td>\n",
       "      <td>2.0</td>\n",
       "      <td>1.0</td>\n",
       "      <td>2.0</td>\n",
       "      <td>3.0</td>\n",
       "      <td>3.0</td>\n",
       "      <td>4.0</td>\n",
       "      <td>6.0</td>\n",
       "      <td>5.0</td>\n",
       "    </tr>\n",
       "  </tbody>\n",
       "</table>\n",
       "<p>5 rows × 85 columns</p>\n",
       "</div>"
      ],
      "text/plain": [
       "   AGER_TYP  ALTERSKATEGORIE_GROB  ANREDE_KZ  CJT_GESAMTTYP  \\\n",
       "0        -1                     2          1            2.0   \n",
       "1        -1                     1          2            5.0   \n",
       "2        -1                     3          2            3.0   \n",
       "3         2                     4          2            2.0   \n",
       "4        -1                     3          1            5.0   \n",
       "\n",
       "   FINANZ_MINIMALIST  FINANZ_SPARER  FINANZ_VORSORGER  FINANZ_ANLEGER  \\\n",
       "0                  3              4                 3               5   \n",
       "1                  1              5                 2               5   \n",
       "2                  1              4                 1               2   \n",
       "3                  4              2                 5               2   \n",
       "4                  4              3                 4               1   \n",
       "\n",
       "   FINANZ_UNAUFFAELLIGER  FINANZ_HAUSBAUER    ...     PLZ8_ANTG1  PLZ8_ANTG2  \\\n",
       "0                      5                 3    ...            NaN         NaN   \n",
       "1                      4                 5    ...            2.0         3.0   \n",
       "2                      3                 5    ...            3.0         3.0   \n",
       "3                      1                 2    ...            2.0         2.0   \n",
       "4                      3                 2    ...            2.0         4.0   \n",
       "\n",
       "   PLZ8_ANTG3  PLZ8_ANTG4  PLZ8_BAUMAX  PLZ8_HHZ  PLZ8_GBZ  ARBEIT  \\\n",
       "0         NaN         NaN          NaN       NaN       NaN     NaN   \n",
       "1         2.0         1.0          1.0       5.0       4.0     3.0   \n",
       "2         1.0         0.0          1.0       4.0       4.0     3.0   \n",
       "3         2.0         0.0          1.0       3.0       4.0     2.0   \n",
       "4         2.0         1.0          2.0       3.0       3.0     4.0   \n",
       "\n",
       "   ORTSGR_KLS9  RELAT_AB  \n",
       "0          NaN       NaN  \n",
       "1          5.0       4.0  \n",
       "2          5.0       2.0  \n",
       "3          3.0       3.0  \n",
       "4          6.0       5.0  \n",
       "\n",
       "[5 rows x 85 columns]"
      ]
     },
     "execution_count": 89,
     "metadata": {},
     "output_type": "execute_result"
    }
   ],
   "source": [
    "azdias.head()"
   ]
  },
  {
   "cell_type": "code",
   "execution_count": 90,
   "metadata": {},
   "outputs": [
    {
     "data": {
      "text/html": [
       "<div>\n",
       "<style scoped>\n",
       "    .dataframe tbody tr th:only-of-type {\n",
       "        vertical-align: middle;\n",
       "    }\n",
       "\n",
       "    .dataframe tbody tr th {\n",
       "        vertical-align: top;\n",
       "    }\n",
       "\n",
       "    .dataframe thead th {\n",
       "        text-align: right;\n",
       "    }\n",
       "</style>\n",
       "<table border=\"1\" class=\"dataframe\">\n",
       "  <thead>\n",
       "    <tr style=\"text-align: right;\">\n",
       "      <th></th>\n",
       "      <th>attribute</th>\n",
       "      <th>information_level</th>\n",
       "      <th>type</th>\n",
       "      <th>missing_or_unknown</th>\n",
       "    </tr>\n",
       "  </thead>\n",
       "  <tbody>\n",
       "    <tr>\n",
       "      <th>count</th>\n",
       "      <td>85</td>\n",
       "      <td>85</td>\n",
       "      <td>85</td>\n",
       "      <td>85</td>\n",
       "    </tr>\n",
       "    <tr>\n",
       "      <th>unique</th>\n",
       "      <td>85</td>\n",
       "      <td>9</td>\n",
       "      <td>5</td>\n",
       "      <td>9</td>\n",
       "    </tr>\n",
       "    <tr>\n",
       "      <th>top</th>\n",
       "      <td>SEMIO_DOM</td>\n",
       "      <td>person</td>\n",
       "      <td>ordinal</td>\n",
       "      <td>[-1]</td>\n",
       "    </tr>\n",
       "    <tr>\n",
       "      <th>freq</th>\n",
       "      <td>1</td>\n",
       "      <td>43</td>\n",
       "      <td>49</td>\n",
       "      <td>26</td>\n",
       "    </tr>\n",
       "  </tbody>\n",
       "</table>\n",
       "</div>"
      ],
      "text/plain": [
       "        attribute information_level     type missing_or_unknown\n",
       "count          85                85       85                 85\n",
       "unique         85                 9        5                  9\n",
       "top     SEMIO_DOM            person  ordinal               [-1]\n",
       "freq            1                43       49                 26"
      ]
     },
     "execution_count": 90,
     "metadata": {},
     "output_type": "execute_result"
    }
   ],
   "source": [
    "feat_info.head(50)\n",
    "\n",
    "feat_info.describe()"
   ]
  },
  {
   "cell_type": "markdown",
   "metadata": {},
   "source": [
    "> **Tip**: Add additional cells to keep everything in reasonably-sized chunks! Keyboard shortcut `esc --> a` (press escape to enter command mode, then press the 'A' key) adds a new cell before the active cell, and `esc --> b` adds a new cell after the active cell. If you need to convert an active cell to a markdown cell, use `esc --> m` and to convert to a code cell, use `esc --> y`. \n",
    "\n",
    "## Step 1: Preprocessing\n",
    "\n",
    "### Step 1.1: Assess Missing Data\n",
    "\n",
    "The feature summary file contains a summary of properties for each demographics data column. You will use this file to help you make cleaning decisions during this stage of the project. First of all, you should assess the demographics data in terms of missing data. Pay attention to the following points as you perform your analysis, and take notes on what you observe. Make sure that you fill in the **Discussion** cell with your findings and decisions at the end of each step that has one!\n",
    "\n",
    "#### Step 1.1.1: Convert Missing Value Codes to NaNs\n",
    "The fourth column of the feature attributes summary (loaded in above as `feat_info`) documents the codes from the data dictionary that indicate missing or unknown data. While the file encodes this as a list (e.g. `[-1,0]`), this will get read in as a string object. You'll need to do a little bit of parsing to make use of it to identify and clean the data. Convert data that matches a 'missing' or 'unknown' value code into a numpy NaN value. You might want to see how much data takes on a 'missing' or 'unknown' code, and how much data is naturally missing, as a point of interest.\n",
    "\n",
    "**As one more reminder, you are encouraged to add additional cells to break up your analysis into manageable chunks.**"
   ]
  },
  {
   "cell_type": "code",
   "execution_count": 91,
   "metadata": {},
   "outputs": [
    {
     "name": "stdout",
     "output_type": "stream",
     "text": [
      "['-1', '0', '1', '2', '3', '4', '5', '6', '7', '8', '9']\n"
     ]
    }
   ],
   "source": [
    "# create list of possible NA designations\n",
    "list_NAs = []\n",
    "for v in range(-1,10):\n",
    "    list_NAs.append(str(v))\n",
    "\n",
    "    \n",
    "print(list_NAs)"
   ]
  },
  {
   "cell_type": "code",
   "execution_count": 92,
   "metadata": {},
   "outputs": [],
   "source": [
    "for col in range(85):\n",
    "    unknown_values = feat_info.iloc[col][3]\n",
    "    unknown_values = unknown_values.strip('[')\n",
    "    unknown_values = unknown_values.strip(']')\n",
    "    unknown_values = unknown_values.split(sep=',')\n",
    "# convert to ints\n",
    "    for j in range(len(unknown_values)):\n",
    "        if unknown_values[j] in list_NAs:\n",
    "            unknown_values[j] = int(unknown_values[j])\n",
    "    if(unknown_values!=['']):\n",
    "        azdias = azdias.replace({feat_info.iloc[col][0]: unknown_values}, np.nan)\n",
    "            "
   ]
  },
  {
   "cell_type": "code",
   "execution_count": 93,
   "metadata": {},
   "outputs": [
    {
     "data": {
      "text/plain": [
       "8373929"
      ]
     },
     "execution_count": 93,
     "metadata": {},
     "output_type": "execute_result"
    }
   ],
   "source": [
    "# number of unknown values\n",
    "azdias.isna().sum().sum()"
   ]
  },
  {
   "cell_type": "markdown",
   "metadata": {},
   "source": [
    "#### Step 1.1.2: Assess Missing Data in Each Column\n",
    "\n",
    "How much missing data is present in each column? There are a few columns that are outliers in terms of the proportion of values that are missing. You will want to use matplotlib's [`hist()`](https://matplotlib.org/api/_as_gen/matplotlib.pyplot.hist.html) function to visualize the distribution of missing value counts to find these columns. Identify and document these columns. While some of these columns might have justifications for keeping or re-encoding the data, for this project you should just remove them from the dataframe. (Feel free to make remarks about these outlier columns in the discussion, however!)\n",
    "\n",
    "For the remaining features, are there any patterns in which columns have, or share, missing data?"
   ]
  },
  {
   "cell_type": "code",
   "execution_count": 94,
   "metadata": {},
   "outputs": [
    {
     "name": "stdout",
     "output_type": "stream",
     "text": [
      "TITEL_KZ                 0.997576\n",
      "AGER_TYP                 0.769554\n",
      "KK_KUNDENTYP             0.655967\n",
      "KBA05_BAUMAX             0.534687\n",
      "GEBURTSJAHR              0.440203\n",
      "ALTER_HH                 0.348137\n",
      "REGIOTYP                 0.177357\n",
      "KKK                      0.177357\n",
      "W_KEIT_KIND_HH           0.166051\n",
      "KBA05_ANTG4              0.149597\n",
      "KBA05_GBZ                0.149597\n",
      "MOBI_REGIO               0.149597\n",
      "KBA05_ANTG1              0.149597\n",
      "KBA05_ANTG2              0.149597\n",
      "KBA05_ANTG3              0.149597\n",
      "PLZ8_GBZ                 0.130736\n",
      "PLZ8_HHZ                 0.130736\n",
      "PLZ8_BAUMAX              0.130736\n",
      "PLZ8_ANTG4               0.130736\n",
      "PLZ8_ANTG1               0.130736\n",
      "PLZ8_ANTG3               0.130736\n",
      "PLZ8_ANTG2               0.130736\n",
      "SHOPPER_TYP              0.124768\n",
      "VERS_TYP                 0.124768\n",
      "HEALTH_TYP               0.124768\n",
      "NATIONALITAET_KZ         0.121536\n",
      "PRAEGENDE_JUGENDJAHRE    0.121366\n",
      "KBA13_ANZAHL_PKW         0.118714\n",
      "ANZ_HAUSHALTE_AKTIV      0.111769\n",
      "CAMEO_INTL_2015          0.111479\n",
      "                           ...   \n",
      "RETOURTYP_BK_S           0.005446\n",
      "ONLINE_AFFINITAET        0.005446\n",
      "LP_STATUS_FEIN           0.005446\n",
      "LP_STATUS_GROB           0.005446\n",
      "GFK_URLAUBERTYP          0.005446\n",
      "ALTERSKATEGORIE_GROB     0.003233\n",
      "FINANZTYP                0.000000\n",
      "GREEN_AVANTGARDE         0.000000\n",
      "FINANZ_HAUSBAUER         0.000000\n",
      "FINANZ_UNAUFFAELLIGER    0.000000\n",
      "FINANZ_ANLEGER           0.000000\n",
      "FINANZ_SPARER            0.000000\n",
      "FINANZ_MINIMALIST        0.000000\n",
      "ANREDE_KZ                0.000000\n",
      "FINANZ_VORSORGER         0.000000\n",
      "SEMIO_FAM                0.000000\n",
      "SEMIO_SOZ                0.000000\n",
      "SEMIO_REL                0.000000\n",
      "SEMIO_MAT                0.000000\n",
      "SEMIO_VERT               0.000000\n",
      "SEMIO_LUST               0.000000\n",
      "SEMIO_ERL                0.000000\n",
      "SEMIO_KULT               0.000000\n",
      "SEMIO_RAT                0.000000\n",
      "SEMIO_KRIT               0.000000\n",
      "SEMIO_DOM                0.000000\n",
      "SEMIO_KAEM               0.000000\n",
      "SEMIO_PFLICHT            0.000000\n",
      "SEMIO_TRADV              0.000000\n",
      "ZABEOTYP                 0.000000\n",
      "Length: 85, dtype: float64\n"
     ]
    }
   ],
   "source": [
    "# Perform an assessment of how much missing data there is in each column of the\n",
    "# dataset.\n",
    "\n",
    "proportion_unknown = (azdias.isna().sum()/len(azdias)).sort_values(ascending=False)\n",
    "                      \n",
    "print(proportion_unknown)\n"
   ]
  },
  {
   "cell_type": "code",
   "execution_count": 95,
   "metadata": {},
   "outputs": [
    {
     "data": {
      "image/png": "[encoded data removed]",
      "text/plain": [
       "<matplotlib.figure.Figure at 0x7f3f0579a780>"
      ]
     },
     "metadata": {
      "needs_background": "light"
     },
     "output_type": "display_data"
    }
   ],
   "source": [
    "# Investigate patterns in the amount of missing data in each column.\n",
    "\n",
    "plt.hist(proportion_unknown, bins=100)\n",
    "plt.title(\"Histogram of the Proportion of Unknown Values per Column\")\n",
    "plt.ylabel('Number of Columns')\n",
    "plt.xlabel('Proportion of Unknown Values/Column')\n",
    "plt.show()\n",
    "\n"
   ]
  },
  {
   "cell_type": "code",
   "execution_count": 96,
   "metadata": {},
   "outputs": [
    {
     "name": "stdout",
     "output_type": "stream",
     "text": [
      "TITEL_KZ        0.997576\n",
      "AGER_TYP        0.769554\n",
      "KK_KUNDENTYP    0.655967\n",
      "KBA05_BAUMAX    0.534687\n",
      "GEBURTSJAHR     0.440203\n",
      "ALTER_HH        0.348137\n",
      "dtype: float64\n"
     ]
    }
   ],
   "source": [
    "# Remove the outlier columns from the dataset. (You'll perform other data\n",
    "# engineering tasks such as re-encoding and imputation later.)\n",
    "\n",
    "proportion_unknown20 = proportion_unknown[proportion_unknown > 0.20]\n",
    "\n",
    "print(proportion_unknown20)\n",
    "\n",
    "azdias = azdias.drop(columns=proportion_unknown20.index)"
   ]
  },
  {
   "cell_type": "markdown",
   "metadata": {},
   "source": [
    "#### Discussion 1.1.2: Assess Missing Data in Each Column\n",
    "\n",
    "Most columns have less than 20% missing data. Therefore, columns that have more than 20% missing data are considered as outlier columns, and are dropped: 'AGER_TYP', 'GEBURTSJAHR', 'TITEL_KZ', 'ALTER_HH', 'KK_KUNDENTYP', 'KBA05_BAUMAX'."
   ]
  },
  {
   "cell_type": "markdown",
   "metadata": {},
   "source": [
    "#### Step 1.1.3: Assess Missing Data in Each Row\n",
    "\n",
    "Now, you'll perform a similar assessment for the rows of the dataset. How much data is missing in each row? As with the columns, you should see some groups of points that have a very different numbers of missing values. Divide the data into two subsets: one for data points that are above some threshold for missing values, and a second subset for points below that threshold.\n",
    "\n",
    "In order to know what to do with the outlier rows, we should see if the distribution of data values on columns that are not missing data (or are missing very little data) are similar or different between the two groups. Select at least five of these columns and compare the distribution of values.\n",
    "- You can use seaborn's [`countplot()`](https://seaborn.pydata.org/generated/seaborn.countplot.html) function to create a bar chart of code frequencies and matplotlib's [`subplot()`](https://matplotlib.org/api/_as_gen/matplotlib.pyplot.subplot.html) function to put bar charts for the two subplots side by side.\n",
    "- To reduce repeated code, you might want to write a function that can perform this comparison, taking as one of its arguments a column to be compared.\n",
    "\n",
    "Depending on what you observe in your comparison, this will have implications on how you approach your conclusions later in the analysis. If the distributions of non-missing features look similar between the data with many missing values and the data with few or no missing values, then we could argue that simply dropping those points from the analysis won't present a major issue. On the other hand, if the data with many missing values looks very different from the data with few or no missing values, then we should make a note on those data as special. We'll revisit these data later on. **Either way, you should continue your analysis for now using just the subset of the data with few or no missing values.**"
   ]
  },
  {
   "cell_type": "code",
   "execution_count": 97,
   "metadata": {},
   "outputs": [
    {
     "data": {
      "image/png": "[encoded data removed]",
      "text/plain": [
       "<matplotlib.figure.Figure at 0x7f3f0579aef0>"
      ]
     },
     "metadata": {
      "needs_background": "light"
     },
     "output_type": "display_data"
    }
   ],
   "source": [
    "# How much data is missing in each row of the dataset?\n",
    "\n",
    "unknown_per_row =azdias.isna().sum(axis=1)\n",
    "plt.hist(unknown_per_row, bins=100)\n",
    "plt.title('Missing data in the dataset`s rows')\n",
    "plt.ylabel('Number of Rows')\n",
    "plt.xlabel('Number of Unknown Values')\n",
    "plt.show()\n",
    "\n"
   ]
  },
  {
   "cell_type": "code",
   "execution_count": 98,
   "metadata": {},
   "outputs": [],
   "source": [
    "# Write code to divide the data into two subsets based on the number of missing\n",
    "# values in each row.\n",
    "\n",
    "azdias_less3 = azdias[azdias.isna().sum(axis=1) <= 3]\n",
    "azdias_more3 = azdias[azdias.isna().sum(axis=1) > 3]"
   ]
  },
  {
   "cell_type": "code",
   "execution_count": 99,
   "metadata": {},
   "outputs": [],
   "source": [
    "unknown_per_column = azdias.isnull().sum()"
   ]
  },
  {
   "cell_type": "code",
   "execution_count": 100,
   "metadata": {},
   "outputs": [],
   "source": [
    "# Creating a list of columns having zero unknown values\n",
    "no_unknown=[]\n",
    "for i in range(79):\n",
    "    if(unknown_per_column[i]==0):\n",
    "        no_unknown.append(unknown_per_column.index[i])"
   ]
  },
  {
   "cell_type": "code",
   "execution_count": 101,
   "metadata": {},
   "outputs": [],
   "source": [
    "columns_comp = no_unknown[:5]"
   ]
  },
  {
   "cell_type": "code",
   "execution_count": 102,
   "metadata": {},
   "outputs": [
    {
     "data": {
      "image/png": "[encoded data removed]",
      "text/plain": [
       "<matplotlib.figure.Figure at 0x7f3f4ea4a2b0>"
      ]
     },
     "metadata": {
      "needs_background": "light"
     },
     "output_type": "display_data"
    }
   ],
   "source": [
    "# Compare the distribution of values for at least five columns where there are\n",
    "# no or few missing values, between the two subsets.\n",
    "\n",
    "figure, axs = plt.subplots(nrows=len(columns_comp), ncols=2, figsize = (15,20))\n",
    "figure.subplots_adjust(hspace = 1, wspace=.3)\n",
    "for i in range(len(columns_comp)):\n",
    "    sns.countplot(azdias_less3[columns_comp[i]], ax=axs[i][0])\n",
    "    axs[i][0].set_title('rows with almost no missing values')\n",
    "    sns.countplot(azdias_more3[columns_comp[i]], ax=axs[i][1])\n",
    "    axs[i][1].set_title('rows with many missing values')\n"
   ]
  },
  {
   "cell_type": "markdown",
   "metadata": {},
   "source": [
    "#### Discussion 1.1.3: Assess Missing Data in Each Row\n",
    "\n",
    "From the charts above, the distributions of values between the two datasets are similar for Gender feature, but are quite different for some features such as Financial features."
   ]
  },
  {
   "cell_type": "markdown",
   "metadata": {},
   "source": [
    "### Step 1.2: Select and Re-Encode Features\n",
    "\n",
    "Checking for missing data isn't the only way in which you can prepare a dataset for analysis. Since the unsupervised learning techniques to be used will only work on data that is encoded numerically, you need to make a few encoding changes or additional assumptions to be able to make progress. In addition, while almost all of the values in the dataset are encoded using numbers, not all of them represent numeric values. Check the third column of the feature summary (`feat_info`) for a summary of types of measurement.\n",
    "- For numeric and interval data, these features can be kept without changes.\n",
    "- Most of the variables in the dataset are ordinal in nature. While ordinal values may technically be non-linear in spacing, make the simplifying assumption that the ordinal variables can be treated as being interval in nature (that is, kept without any changes).\n",
    "- Special handling may be necessary for the remaining two variable types: categorical, and 'mixed'.\n",
    "\n",
    "In the first two parts of this sub-step, you will perform an investigation of the categorical and mixed-type features and make a decision on each of them, whether you will keep, drop, or re-encode each. Then, in the last part, you will create a new data frame with only the selected and engineered columns.\n",
    "\n",
    "Data wrangling is often the trickiest part of the data analysis process, and there's a lot of it to be done here. But stick with it: once you're done with this step, you'll be ready to get to the machine learning parts of the project!"
   ]
  },
  {
   "cell_type": "code",
   "execution_count": 103,
   "metadata": {},
   "outputs": [
    {
     "data": {
      "text/plain": [
       "ordinal        49\n",
       "categorical    18\n",
       "numeric         6\n",
       "mixed           6\n",
       "Name: type, dtype: int64"
      ]
     },
     "execution_count": 103,
     "metadata": {},
     "output_type": "execute_result"
    }
   ],
   "source": [
    "# How many features are there of each data type?\n",
    "\n",
    "columns = list(azdias_less3.columns)\n",
    "feat_info_new = feat_info[feat_info['attribute'].isin(columns)]\n",
    "\n",
    "feat_info_new['type'].value_counts()\n",
    "\n",
    "\n"
   ]
  },
  {
   "cell_type": "markdown",
   "metadata": {},
   "source": [
    "#### Step 1.2.1: Re-Encode Categorical Features\n",
    "\n",
    "For categorical data, you would ordinarily need to encode the levels as dummy variables. Depending on the number of categories, perform one of the following:\n",
    "- For binary (two-level) categoricals that take numeric values, you can keep them without needing to do anything.\n",
    "- There is one binary variable that takes on non-numeric values. For this one, you need to re-encode the values as numbers or create a dummy variable.\n",
    "- For multi-level categoricals (three or more values), you can choose to encode the values using multiple dummy variables (e.g. via [OneHotEncoder](http://scikit-learn.org/stable/modules/generated/sklearn.preprocessing.OneHotEncoder.html)), or (to keep things straightforward) just drop them from the analysis. As always, document your choices in the Discussion section."
   ]
  },
  {
   "cell_type": "code",
   "execution_count": 104,
   "metadata": {},
   "outputs": [
    {
     "name": "stdout",
     "output_type": "stream",
     "text": [
      "2            ANREDE_KZ\n",
      "3        CJT_GESAMTTYP\n",
      "10           FINANZTYP\n",
      "12     GFK_URLAUBERTYP\n",
      "13    GREEN_AVANTGARDE\n",
      "17     LP_FAMILIE_FEIN\n",
      "18     LP_FAMILIE_GROB\n",
      "19      LP_STATUS_FEIN\n",
      "20      LP_STATUS_GROB\n",
      "21    NATIONALITAET_KZ\n",
      "38         SHOPPER_TYP\n",
      "39             SOHO_KZ\n",
      "41            VERS_TYP\n",
      "42            ZABEOTYP\n",
      "52         GEBAEUDETYP\n",
      "55         OST_WEST_KZ\n",
      "57     CAMEO_DEUG_2015\n",
      "58      CAMEO_DEU_2015\n",
      "Name: attribute, dtype: object\n"
     ]
    }
   ],
   "source": [
    "# Assess categorical variables: which are binary, which are multi-level, and\n",
    "# which one needs to be re-encoded?\n",
    "\n",
    "features_categorical = feat_info_new.query('type==\"categorical\"').attribute\n",
    "\n",
    "print(features_categorical)\n",
    "\n"
   ]
  },
  {
   "cell_type": "code",
   "execution_count": 105,
   "metadata": {},
   "outputs": [
    {
     "name": "stdout",
     "output_type": "stream",
     "text": [
      "['ANREDE_KZ', 'GREEN_AVANTGARDE', 'SOHO_KZ', 'VERS_TYP', 'OST_WEST_KZ']\n",
      "['CJT_GESAMTTYP', 'FINANZTYP', 'GFK_URLAUBERTYP', 'LP_FAMILIE_FEIN', 'LP_FAMILIE_GROB', 'LP_STATUS_FEIN', 'LP_STATUS_GROB', 'NATIONALITAET_KZ', 'SHOPPER_TYP', 'ZABEOTYP', 'GEBAEUDETYP', 'CAMEO_DEUG_2015', 'CAMEO_DEU_2015']\n"
     ]
    }
   ],
   "source": [
    "# identify binary and categorical variables\n",
    "feat_bi = []\n",
    "feat_mule =[]\n",
    "for feature in features_categorical:\n",
    "    if (len(azdias_less3[feature].unique())==2):\n",
    "        feat_bi.append(feature)\n",
    "    elif (len(azdias_less3[feature].unique())>2):\n",
    "        feat_mule.append(feature)\n",
    "\n",
    "\n",
    "print(feat_bi)\n",
    "print(feat_mule)"
   ]
  },
  {
   "cell_type": "code",
   "execution_count": 106,
   "metadata": {},
   "outputs": [],
   "source": [
    "# Re-encode categorical variable(s) to be kept in the analysis and drop multi-level features\n",
    "\n",
    "binary_coding = {'W': 1, 'O': 0}\n",
    "azdias_new = azdias_less3.replace({'OST_WEST_KZ':binary_coding})\n",
    "\n",
    "for feature in feat_mule:\n",
    "    azdias_new = azdias_new.drop(feature, axis=1)\n",
    "\n"
   ]
  },
  {
   "cell_type": "markdown",
   "metadata": {},
   "source": [
    "#### Discussion 1.2.1: Re-Encode Categorical Features\n",
    "\n",
    "At first I identified different types of categorical features. After that I decided to keep the binary coded features, which created a need to recode the 'OST_WEST_KZ' column. As a last step I dropped all of the multi-level features."
   ]
  },
  {
   "cell_type": "markdown",
   "metadata": {},
   "source": [
    "#### Step 1.2.2: Engineer Mixed-Type Features\n",
    "\n",
    "There are a handful of features that are marked as \"mixed\" in the feature summary that require special treatment in order to be included in the analysis. There are two in particular that deserve attention; the handling of the rest are up to your own choices:\n",
    "- \"PRAEGENDE_JUGENDJAHRE\" combines information on three dimensions: generation by decade, movement (mainstream vs. avantgarde), and nation (east vs. west). While there aren't enough levels to disentangle east from west, you should create two new variables to capture the other two dimensions: an interval-type variable for decade, and a binary variable for movement.\n",
    "- \"CAMEO_INTL_2015\" combines information on two axes: wealth and life stage. Break up the two-digit codes by their 'tens'-place and 'ones'-place digits into two new ordinal variables (which, for the purposes of this project, is equivalent to just treating them as their raw numeric values).\n",
    "- If you decide to keep or engineer new features around the other mixed-type features, make sure you note your steps in the Discussion section.\n",
    "\n",
    "Be sure to check `Data_Dictionary.md` for the details needed to finish these tasks."
   ]
  },
  {
   "cell_type": "code",
   "execution_count": 107,
   "metadata": {},
   "outputs": [],
   "source": [
    "# Investigate \"PRAEGENDE_JUGENDJAHRE\" and engineer two new variables.\n",
    "\n",
    "azdias_new['DECADE'] = azdias_new['PRAEGENDE_JUGENDJAHRE']\n",
    "azdias_new['MOVEMENT'] = azdias_new['PRAEGENDE_JUGENDJAHRE']\n",
    "\n",
    "\n",
    "decade = {1:1, 2:1, 3:2, 4:2, 5:3, 6:3, 7:3, 8:4, 9:4, 10:5, 11:5, 12:5, 13:5, 14:6, 15:6}\n",
    "movement = {1:1, 2:0, 3:1, 4:0, 5:1, 6:0, 7:0, 8:1, 9:0, 10:1, 11:0, 12:1, 13:0, 14:1, 15:0}\n",
    "\n",
    "azdias_new['DECADE'].replace(decade, inplace=True)\n",
    "azdias_new['MOVEMENT'].replace(movement, inplace=True)\n"
   ]
  },
  {
   "cell_type": "code",
   "execution_count": 108,
   "metadata": {},
   "outputs": [],
   "source": [
    "# Investigate \"CAMEO_INTL_2015\" and engineer two new variables.\n",
    "\n",
    "azdias_new['WEALTH'] = azdias_new['CAMEO_INTL_2015']\n",
    "azdias_new['LIFE_STAGE'] = azdias_new['CAMEO_INTL_2015']\n",
    "\n",
    "wealth = {'11':1, '12':1, '13':1, '14':1, '15':1, '21':2, '22':2, '23':2, '24':2, '25':2,\n",
    "               '31':3, '32':3, '33':3, '34':3, '35':3, '41':4, '42':4, '43':4, '44':4, '45':4,\n",
    "               '51':5, '52':5, '53':5, '54':5, '55':5}\n",
    "\n",
    "life_stage = {'11':1, '12':2, '13':3, '14':4, '15':5, '21':1, '22':2, '23':3, '24':4, '25':5,\n",
    "                   '31':1, '32':2, '33':3, '34':4, '35':5, '41':1, '42':2, '43':3, '44':4, '45':5,\n",
    "                   '51':1, '52':2, '53':3, '54':4, '55':5}\n",
    "\n",
    "\n",
    "azdias_new['WEALTH'].replace(wealth, inplace=True)\n",
    "azdias_new['LIFE_STAGE'].replace(life_stage, inplace=True)"
   ]
  },
  {
   "cell_type": "markdown",
   "metadata": {},
   "source": [
    "#### Discussion 1.2.2: Engineer Mixed-Type Features\n",
    "\n",
    "I decided to keep both of the colums and create 2 new for each of these. Therefore I firstly created two new columns ('DECADE' and 'MOVEMENT') for 'PRAEGENDE_JUGENDJAHRE' and recoded both of these by using a dictionary. I did the same procedure for the 'CAMEO_INTL_2015' creating 'WEALTH' and 'LIFE_STAGE' in order to handle the mixed-type features.\n"
   ]
  },
  {
   "cell_type": "markdown",
   "metadata": {},
   "source": [
    "#### Step 1.2.3: Complete Feature Selection\n",
    "\n",
    "In order to finish this step up, you need to make sure that your data frame now only has the columns that you want to keep. To summarize, the dataframe should consist of the following:\n",
    "- All numeric, interval, and ordinal type columns from the original dataset.\n",
    "- Binary categorical features (all numerically-encoded).\n",
    "- Engineered features from other multi-level categorical features and mixed features.\n",
    "\n",
    "Make sure that for any new columns that you have engineered, that you've excluded the original columns from the final dataset. Otherwise, their values will interfere with the analysis later on the project. For example, you should not keep \"PRAEGENDE_JUGENDJAHRE\", since its values won't be useful for the algorithm: only the values derived from it in the engineered features you created should be retained. As a reminder, your data should only be from **the subset with few or no missing values**."
   ]
  },
  {
   "cell_type": "code",
   "execution_count": 109,
   "metadata": {},
   "outputs": [],
   "source": [
    "# Do whatever you need to in order to ensure that the dataframe only contains\n",
    "# the columns that should be passed to the algorithm functions.\n",
    "\n",
    "mixed = feat_info_new[feat_info_new[\"type\"]==\"mixed\"][\"attribute\"]\n",
    "mixed = feat_info_new.query('type == \"mixed\"')[\"attribute\"]\n",
    "for feature in mixed:\n",
    "    azdias_new.drop(feature, axis=1, inplace=True)\n"
   ]
  },
  {
   "cell_type": "code",
   "execution_count": 110,
   "metadata": {},
   "outputs": [
    {
     "name": "stdout",
     "output_type": "stream",
     "text": [
      "15      LP_LEBENSPHASE_FEIN\n",
      "16      LP_LEBENSPHASE_GROB\n",
      "22    PRAEGENDE_JUGENDJAHRE\n",
      "56                 WOHNLAGE\n",
      "59          CAMEO_INTL_2015\n",
      "79              PLZ8_BAUMAX\n",
      "Name: attribute, dtype: object\n"
     ]
    }
   ],
   "source": [
    "print(mixed)"
   ]
  },
  {
   "cell_type": "markdown",
   "metadata": {},
   "source": [
    "### Step 1.3: Create a Cleaning Function\n",
    "\n",
    "Even though you've finished cleaning up the general population demographics data, it's important to look ahead to the future and realize that you'll need to perform the same cleaning steps on the customer demographics data. In this substep, complete the function below to execute the main feature selection, encoding, and re-engineering steps you performed above. Then, when it comes to looking at the customer data in Step 3, you can just run this function on that DataFrame to get the trimmed dataset in a single step."
   ]
  },
  {
   "cell_type": "code",
   "execution_count": 111,
   "metadata": {},
   "outputs": [
    {
     "name": "stdout",
     "output_type": "stream",
     "text": [
      "<class 'pandas.core.frame.DataFrame'>\n",
      "Int64Index: 684502 entries, 1 to 891220\n",
      "Data columns (total 64 columns):\n",
      "ALTERSKATEGORIE_GROB     684502 non-null float64\n",
      "ANREDE_KZ                684502 non-null int64\n",
      "FINANZ_MINIMALIST        684502 non-null int64\n",
      "FINANZ_SPARER            684502 non-null int64\n",
      "FINANZ_VORSORGER         684502 non-null int64\n",
      "FINANZ_ANLEGER           684502 non-null int64\n",
      "FINANZ_UNAUFFAELLIGER    684502 non-null int64\n",
      "FINANZ_HAUSBAUER         684502 non-null int64\n",
      "GREEN_AVANTGARDE         684502 non-null int64\n",
      "HEALTH_TYP               684502 non-null float64\n",
      "RETOURTYP_BK_S           684502 non-null float64\n",
      "SEMIO_SOZ                684502 non-null int64\n",
      "SEMIO_FAM                684502 non-null int64\n",
      "SEMIO_REL                684502 non-null int64\n",
      "SEMIO_MAT                684502 non-null int64\n",
      "SEMIO_VERT               684502 non-null int64\n",
      "SEMIO_LUST               684502 non-null int64\n",
      "SEMIO_ERL                684502 non-null int64\n",
      "SEMIO_KULT               684502 non-null int64\n",
      "SEMIO_RAT                684502 non-null int64\n",
      "SEMIO_KRIT               684502 non-null int64\n",
      "SEMIO_DOM                684502 non-null int64\n",
      "SEMIO_KAEM               684502 non-null int64\n",
      "SEMIO_PFLICHT            684502 non-null int64\n",
      "SEMIO_TRADV              684502 non-null int64\n",
      "SOHO_KZ                  684502 non-null float64\n",
      "VERS_TYP                 684502 non-null float64\n",
      "ANZ_PERSONEN             684502 non-null float64\n",
      "ANZ_TITEL                684502 non-null float64\n",
      "HH_EINKOMMEN_SCORE       684502 non-null float64\n",
      "W_KEIT_KIND_HH           666425 non-null float64\n",
      "WOHNDAUER_2008           684502 non-null float64\n",
      "ANZ_HAUSHALTE_AKTIV      682041 non-null float64\n",
      "ANZ_HH_TITEL             683945 non-null float64\n",
      "KONSUMNAEHE              684466 non-null float64\n",
      "MIN_GEBAEUDEJAHR         684502 non-null float64\n",
      "OST_WEST_KZ              684502 non-null int64\n",
      "KBA05_ANTG1              684502 non-null float64\n",
      "KBA05_ANTG2              684502 non-null float64\n",
      "KBA05_ANTG3              684502 non-null float64\n",
      "KBA05_ANTG4              684502 non-null float64\n",
      "KBA05_GBZ                684502 non-null float64\n",
      "BALLRAUM                 684099 non-null float64\n",
      "EWDICHTE                 684099 non-null float64\n",
      "INNENSTADT               684099 non-null float64\n",
      "GEBAEUDETYP_RASTER       684500 non-null float64\n",
      "KKK                      646176 non-null float64\n",
      "MOBI_REGIO               684502 non-null float64\n",
      "ONLINE_AFFINITAET        684502 non-null float64\n",
      "REGIOTYP                 646176 non-null float64\n",
      "KBA13_ANZAHL_PKW         683949 non-null float64\n",
      "PLZ8_ANTG1               684502 non-null float64\n",
      "PLZ8_ANTG2               684502 non-null float64\n",
      "PLZ8_ANTG3               684502 non-null float64\n",
      "PLZ8_ANTG4               684502 non-null float64\n",
      "PLZ8_HHZ                 684502 non-null float64\n",
      "PLZ8_GBZ                 684502 non-null float64\n",
      "ARBEIT                   681074 non-null float64\n",
      "ORTSGR_KLS9              681144 non-null float64\n",
      "RELAT_AB                 681074 non-null float64\n",
      "DECADE                   677706 non-null float64\n",
      "MOVEMENT                 677706 non-null float64\n",
      "WEALTH                   681863 non-null float64\n",
      "LIFE_STAGE               681863 non-null float64\n",
      "dtypes: float64(41), int64(23)\n",
      "memory usage: 339.5 MB\n"
     ]
    }
   ],
   "source": [
    "azdias_new.info()"
   ]
  },
  {
   "cell_type": "code",
   "execution_count": 114,
   "metadata": {},
   "outputs": [],
   "source": [
    "def clean_data(df):\n",
    "    \"\"\"\n",
    "    Perform feature trimming, re-encoding, and engineering for demographics\n",
    "    data\n",
    "    \n",
    "    INPUT: Demographics DataFrame\n",
    "    OUTPUT: Trimmed and cleaned demographics DataFrame\n",
    "    \"\"\"\n",
    "    \n",
    "    # Put in code here to execute all main cleaning steps:\n",
    "    # convert missing value codes into NaNs, ...\n",
    "    list_NAs = []\n",
    "    for v in range(-1,10):\n",
    "        list_NAs.append(str(v))\n",
    "    \n",
    "    for col in range(85):\n",
    "        unknown_values = feat_info.iloc[col][3]\n",
    "        unknown_values = unknown_values.strip('[')\n",
    "        unknown_values = unknown_values.strip(']')\n",
    "        unknown_values = unknown_values.split(sep=',')\n",
    "        unknown_values = [int(value) if (value!='X' and value!='XX' and value!='') else value for value in unknown_values]\n",
    "   \n",
    "        if(unknown_values!=['']):\n",
    "            df_new = df.replace({feat_info.iloc[col][0]: unknown_values}, np.nan)\n",
    "            \n",
    "    for col in df_new.columns:\n",
    "        df_new = df_new.replace({col: ['XX', 'X']}, np.nan)\n",
    "   \n",
    "    ## remove selected columns and rows, ...\n",
    "    # columns\n",
    "    columns_drop = ['TITEL_KZ', 'AGER_TYP', 'KK_KUNDENTYP', 'KBA05_BAUMAX', 'GEBURTSJAHR', 'ALTER_HH',\n",
    "                     'CJT_GESAMTTYP',\n",
    "                     'FINANZTYP', 'GFK_URLAUBERTYP', 'LP_FAMILIE_FEIN', 'LP_FAMILIE_GROB', 'LP_STATUS_FEIN',\n",
    "                     'LP_STATUS_GROB', 'NATIONALITAET_KZ', 'SHOPPER_TYP', 'ZABEOTYP', 'GEBAEUDETYP', 'CAMEO_DEUG_2015',\n",
    "                     'CAMEO_DEU_2015', 'LP_LEBENSPHASE_FEIN', 'LP_LEBENSPHASE_GROB', 'PLZ8_BAUMAX' ,\n",
    "                     'WOHNLAGE']\n",
    "    \n",
    "    \n",
    "    \n",
    "    df_new = df_new.drop(columns_drop, axis = 1)\n",
    "    # rows \n",
    "    df_new = df_new[df_new.isna().sum(axis=1) <= 3]\n",
    "\n",
    "    ## select, re-encode, and engineer column values.\n",
    "    # define categorical feature column\n",
    "    columns = list(df_new.columns)\n",
    "    feat_info_new = feat_info[feat_info['attribute'].isin(columns)]\n",
    "    features_categorical = feat_info_new.query('type==\"categorical\"').attribute\n",
    "    \n",
    "    \n",
    "    # define multi level feature column \n",
    "    feat_bi = []\n",
    "    feat_mule = []\n",
    "    for feature in features_categorical:\n",
    "        if (len(df_new[feature].unique())>2):\n",
    "            feat_mule.append(feature)\n",
    "        else:\n",
    "            feat_bi.append(feature)      \n",
    "    \n",
    "    # binary-coding of 'OST_WEST_KZ'\n",
    "    binary_coding = {'W': 1, 'O': 0}\n",
    "    df_new = df_new.replace({'OST_WEST_KZ':binary_coding})\n",
    "    \n",
    "    # \"split\" 'PRAEGENDE_JUGENDJAHRE' to 'DECADE' and 'MOVEMENT'\n",
    "    \n",
    "    df_new['DECADE'] = df_new['PRAEGENDE_JUGENDJAHRE']\n",
    "    df_new['MOVEMENT'] = df_new['PRAEGENDE_JUGENDJAHRE']\n",
    "\n",
    "    decade = {1:1, 2:1, 3:2, 4:2, 5:3, 6:3, 7:3, 8:4, 9:4, 10:5, 11:5, 12:5, 13:5, 14:6, 15:6}\n",
    "    movement = {1:1, 2:0, 3:1, 4:0, 5:1, 6:0, 7:0, 8:1, 9:0, 10:1, 11:0, 12:1, 13:0, 14:1, 15:0}\n",
    "\n",
    "    df_new['DECADE'].replace(decade, inplace=True)\n",
    "    df_new['MOVEMENT'].replace(movement, inplace=True)\n",
    "    \n",
    "    # \"split\" ''CAMEO_INTL_2015'' to ''WEALTH'' and 'LIFE_STAGE'\n",
    "    \n",
    "    df_new['WEALTH'] = df_new['CAMEO_INTL_2015']\n",
    "    df_new['LIFE_STAGE'] = df_new['CAMEO_INTL_2015']\n",
    "\n",
    "    wealth = {'11':1, '12':1, '13':1, '14':1, '15':1, '21':2, '22':2, '23':2, '24':2, '25':2,\n",
    "               '31':3, '32':3, '33':3, '34':3, '35':3, '41':4, '42':4, '43':4, '44':4, '45':4,\n",
    "               '51':5, '52':5, '53':5, '54':5, '55':5}\n",
    "\n",
    "    life_stage = {'11':1, '12':2, '13':3, '14':4, '15':5, '21':1, '22':2, '23':3, '24':4, '25':5,\n",
    "                   '31':1, '32':2, '33':3, '34':4, '35':5, '41':1, '42':2, '43':3, '44':4, '45':5,\n",
    "                   '51':1, '52':2, '53':3, '54':4, '55':5}\n",
    "\n",
    "\n",
    "    df_new['WEALTH'].replace(wealth, inplace=True)\n",
    "    df_new['LIFE_STAGE'].replace(life_stage, inplace=True)\n",
    "    \n",
    "    # remove mixed features' columns\n",
    "    \n",
    "    columns_recoded = ['CAMEO_INTL_2015', 'PRAEGENDE_JUGENDJAHRE']\n",
    "    \n",
    "    df_new = df_new.drop(columns_recoded, axis = 1)\n",
    "    \n",
    "\n",
    "\n",
    "    \n",
    "    # Return the cleaned dataframe.\n",
    "    \n",
    "    return df_new\n",
    "    \n",
    "    "
   ]
  },
  {
   "cell_type": "markdown",
   "metadata": {},
   "source": [
    "## Step 2: Feature Transformation\n",
    "\n",
    "### Step 2.1: Apply Feature Scaling\n",
    "\n",
    "Before we apply dimensionality reduction techniques to the data, we need to perform feature scaling so that the principal component vectors are not influenced by the natural differences in scale for features. Starting from this part of the project, you'll want to keep an eye on the [API reference page for sklearn](http://scikit-learn.org/stable/modules/classes.html) to help you navigate to all of the classes and functions that you'll need. In this substep, you'll need to check the following:\n",
    "\n",
    "- sklearn requires that data not have missing values in order for its estimators to work properly. So, before applying the scaler to your data, make sure that you've cleaned the DataFrame of the remaining missing values. This can be as simple as just removing all data points with missing data, or applying an [Imputer](http://scikit-learn.org/stable/modules/generated/sklearn.preprocessing.Imputer.html) to replace all missing values. You might also try a more complicated procedure where you temporarily remove missing values in order to compute the scaling parameters before re-introducing those missing values and applying imputation. Think about how much missing data you have and what possible effects each approach might have on your analysis, and justify your decision in the discussion section below.\n",
    "- For the actual scaling function, a [StandardScaler](http://scikit-learn.org/stable/modules/generated/sklearn.preprocessing.StandardScaler.html) instance is suggested, scaling each feature to mean 0 and standard deviation 1.\n",
    "- For these classes, you can make use of the `.fit_transform()` method to both fit a procedure to the data as well as apply the transformation to the data at the same time. Don't forget to keep the fit sklearn objects handy, since you'll be applying them to the customer demographics data towards the end of the project."
   ]
  },
  {
   "cell_type": "code",
   "execution_count": 115,
   "metadata": {},
   "outputs": [
    {
     "data": {
      "text/plain": [
       "(684502, 64)"
      ]
     },
     "execution_count": 115,
     "metadata": {},
     "output_type": "execute_result"
    }
   ],
   "source": [
    "azdias_new.shape"
   ]
  },
  {
   "cell_type": "code",
   "execution_count": 116,
   "metadata": {},
   "outputs": [
    {
     "data": {
      "text/plain": [
       "128631"
      ]
     },
     "execution_count": 116,
     "metadata": {},
     "output_type": "execute_result"
    }
   ],
   "source": [
    "# If you've not yet cleaned the dataset of all NaN values, then investigate and\n",
    "# do that now.\n",
    "# Investigate rows with missing values due to feature engineering\n",
    "azdias_new.isnull().sum().sum()\n",
    "\n",
    "\n"
   ]
  },
  {
   "cell_type": "code",
   "execution_count": 117,
   "metadata": {},
   "outputs": [],
   "source": [
    "# Apply feature scaling to the general population demographics data.\n",
    "scaler = StandardScaler()\n",
    "# Drop na for fit\n",
    "scaler.fit(azdias_new.dropna()) \n",
    "imputer = Imputer()\n",
    "# Impute the mean for missing values\n",
    "azdias_imputed = imputer.fit_transform(azdias_new) \n",
    "# Finally transform\n",
    "azdias_standard = scaler.fit_transform(azdias_imputed) \n"
   ]
  },
  {
   "cell_type": "markdown",
   "metadata": {},
   "source": [
    "### Discussion 2.1: Apply Feature Scaling\n",
    "\n",
    "(Double-click this cell and replace this text with your own text, reporting your decisions regarding feature scaling.)"
   ]
  },
  {
   "cell_type": "markdown",
   "metadata": {},
   "source": [
    "### Step 2.2: Perform Dimensionality Reduction\n",
    "\n",
    "On your scaled data, you are now ready to apply dimensionality reduction techniques.\n",
    "\n",
    "- Use sklearn's [PCA](http://scikit-learn.org/stable/modules/generated/sklearn.decomposition.PCA.html) class to apply principal component analysis on the data, thus finding the vectors of maximal variance in the data. To start, you should not set any parameters (so all components are computed) or set a number of components that is at least half the number of features (so there's enough features to see the general trend in variability).\n",
    "- Check out the ratio of variance explained by each principal component as well as the cumulative variance explained. Try plotting the cumulative or sequential values using matplotlib's [`plot()`](https://matplotlib.org/api/_as_gen/matplotlib.pyplot.plot.html) function. Based on what you find, select a value for the number of transformed features you'll retain for the clustering part of the project.\n",
    "- Once you've made a choice for the number of components to keep, make sure you re-fit a PCA instance to perform the decided-on transformation."
   ]
  },
  {
   "cell_type": "code",
   "execution_count": 118,
   "metadata": {},
   "outputs": [],
   "source": [
    "# Apply PCA to the data.\n",
    "\n",
    "pca = PCA()\n",
    "X_pca = pca.fit_transform(azdias_standard)\n",
    "\n"
   ]
  },
  {
   "cell_type": "code",
   "execution_count": 119,
   "metadata": {},
   "outputs": [
    {
     "data": {
      "text/plain": [
       "array([  1.71582848e-01,   1.38815221e-01,   9.57119602e-02,\n",
       "         5.33485345e-02,   3.79440389e-02,   3.17556739e-02,\n",
       "         2.82223984e-02,   2.45681457e-02,   2.33930367e-02,\n",
       "         2.15982386e-02,   2.06555476e-02,   1.90941150e-02,\n",
       "         1.83178585e-02,   1.69331782e-02,   1.60874586e-02,\n",
       "         1.56202167e-02,   1.49163855e-02,   1.42973845e-02,\n",
       "         1.29616365e-02,   1.28929354e-02,   1.24399133e-02,\n",
       "         1.19488034e-02,   1.15798521e-02,   1.09153463e-02,\n",
       "         1.05798867e-02,   8.58889637e-03,   7.84795155e-03,\n",
       "         7.55492828e-03,   7.35084201e-03,   7.23512808e-03,\n",
       "         6.59943067e-03,   6.55522209e-03,   6.28764621e-03,\n",
       "         6.23547723e-03,   5.97057322e-03,   5.88373944e-03,\n",
       "         5.45591945e-03,   4.87774297e-03,   4.68325659e-03,\n",
       "         4.42110618e-03,   4.17480341e-03,   3.89245584e-03,\n",
       "         3.73837635e-03,   3.68228918e-03,   3.33991215e-03,\n",
       "         3.21452533e-03,   3.17921316e-03,   3.13449198e-03,\n",
       "         2.89925904e-03,   2.69696523e-03,   2.63492202e-03,\n",
       "         2.52256640e-03,   2.42312328e-03,   2.32804182e-03,\n",
       "         2.19522893e-03,   2.15230127e-03,   1.93710890e-03,\n",
       "         1.74450646e-03,   1.66218312e-03,   1.49750872e-03,\n",
       "         1.31174679e-03,   1.24196733e-03,   6.47771610e-04,\n",
       "         2.02576245e-05])"
      ]
     },
     "execution_count": 119,
     "metadata": {},
     "output_type": "execute_result"
    }
   ],
   "source": [
    "# Investigate the variance accounted for by each principal component.\n",
    "\n",
    "pca.explained_variance_ratio_\n"
   ]
  },
  {
   "cell_type": "code",
   "execution_count": 120,
   "metadata": {},
   "outputs": [],
   "source": [
    "# Implement scree_plot based on Udacity's help function\n",
    "def scree_plot(pca, annotate=False, limit=None, figsize=(15,9)):\n",
    "    values = pca.explained_variance_ratio_\n",
    "    if limit:\n",
    "        values = values[:limit]\n",
    "    n_components = len(values)\n",
    "    ind = np.arange(n_components)\n",
    "    \n",
    "    plt.figure(figsize=figsize)\n",
    "    ax = plt.subplot(111)\n",
    "    cumvalues = np.cumsum(values)\n",
    "    ax.bar(ind, values)\n",
    "    ax.plot(ind, cumvalues)\n",
    "    if annotate:\n",
    "        for i in range(n_components):\n",
    "            ax.annotate(r\"%s%%\" % ((str(values[i]*100)[:4])), \n",
    "                        (ind[i]+0.2, values[i]),\n",
    "                        va=\"bottom\",\n",
    "                        ha=\"center\",\n",
    "                        fontsize=10)\n",
    "    \n",
    "    ax.xaxis.set_tick_params(width=0)\n",
    "    ax.yaxis.set_tick_params(width=2, length=12)\n",
    "    #ax.yaxis.set_ticks(np.arange(0, 120, 20))\n",
    "    \n",
    "    ax.set_xlabel(\"Principal Component\", fontsize=14)\n",
    "    ax.set_ylabel(\"Variance Explained (%)\", fontsize=14)\n",
    "    if limit:\n",
    "        plt.title(\"Explained Variance Per Principle Component for First {} Features\".format(limit), fontsize=18);\n",
    "    else:\n",
    "        plt.title(\"Explained Variance Per Principle Component\", fontsize=18);"
   ]
  },
  {
   "cell_type": "code",
   "execution_count": 121,
   "metadata": {},
   "outputs": [
    {
     "data": {
      "image/png": "[encoded data removed]",
      "text/plain": [
       "<matplotlib.figure.Figure at 0x7f3f2403b2e8>"
      ]
     },
     "metadata": {
      "needs_background": "light"
     },
     "output_type": "display_data"
    }
   ],
   "source": [
    "scree_plot(pca, figsize=(12, 8))"
   ]
  },
  {
   "cell_type": "code",
   "execution_count": 122,
   "metadata": {},
   "outputs": [
    {
     "data": {
      "image/png": "[encoded data removed]",
      "text/plain": [
       "<matplotlib.figure.Figure at 0x7f3f36ac2860>"
      ]
     },
     "metadata": {
      "needs_background": "light"
     },
     "output_type": "display_data"
    }
   ],
   "source": [
    "scree_plot(pca, annotate=True, limit=20, figsize=(12, 8))"
   ]
  },
  {
   "cell_type": "code",
   "execution_count": 123,
   "metadata": {},
   "outputs": [
    {
     "name": "stdout",
     "output_type": "stream",
     "text": [
      "For 5 components, explained variance: 0.497402602045\n",
      "For 10 components, explained variance: 0.62694009534\n",
      "For 15 components, explained variance: 0.718028253184\n",
      "For 20 components, explained variance: 0.788716811797\n",
      "For 25 components, explained variance: 0.84618061372\n",
      "For 30 components, explained variance: 0.884758360004\n",
      "For 35 components, explained variance: 0.916406709431\n"
     ]
    }
   ],
   "source": [
    "for i in np.arange(5, 40, 5):\n",
    "    print('For {} components, explained variance:'.format(i), \n",
    "          pca.explained_variance_ratio_[:i].sum())"
   ]
  },
  {
   "cell_type": "code",
   "execution_count": 124,
   "metadata": {},
   "outputs": [],
   "source": [
    "# Re-apply PCA to the data while selecting for number of components to retain.\n",
    "\n",
    "pca_25 = PCA(n_components=25)\n",
    "pca_25_ft = pca_25.fit_transform(azdias_standard)\n"
   ]
  },
  {
   "cell_type": "markdown",
   "metadata": {},
   "source": [
    "### Discussion 2.2: Perform Dimensionality Reduction\n",
    "\n",
    "I decided to retain 25 principal components, as it expalains more than 80% of variance while reducing the number of features by more than 50%."
   ]
  },
  {
   "cell_type": "markdown",
   "metadata": {},
   "source": [
    "### Step 2.3: Interpret Principal Components\n",
    "\n",
    "Now that we have our transformed principal components, it's a nice idea to check out the weight of each variable on the first few components to see if they can be interpreted in some fashion.\n",
    "\n",
    "As a reminder, each principal component is a unit vector that points in the direction of highest variance (after accounting for the variance captured by earlier principal components). The further a weight is from zero, the more the principal component is in the direction of the corresponding feature. If two features have large weights of the same sign (both positive or both negative), then increases in one tend expect to be associated with increases in the other. To contrast, features with different signs can be expected to show a negative correlation: increases in one variable should result in a decrease in the other.\n",
    "\n",
    "- To investigate the features, you should map each weight to their corresponding feature name, then sort the features according to weight. The most interesting features for each principal component, then, will be those at the beginning and end of the sorted list. Use the data dictionary document to help you understand these most prominent features, their relationships, and what a positive or negative value on the principal component might indicate.\n",
    "- You should investigate and interpret feature associations from the first three principal components in this substep. To help facilitate this, you should write a function that you can call at any time to print the sorted list of feature weights, for the *i*-th principal component. This might come in handy in the next step of the project, when you interpret the tendencies of the discovered clusters."
   ]
  },
  {
   "cell_type": "code",
   "execution_count": 125,
   "metadata": {},
   "outputs": [],
   "source": [
    "#function for calculating weights of the components\n",
    "\n",
    "def pca_weights(pca, i):\n",
    "    df = pd.DataFrame(pca.components_, columns=list(azdias_new.columns))\n",
    "    weights = df.iloc[i].sort_values(ascending=False)\n",
    "    return weights"
   ]
  },
  {
   "cell_type": "code",
   "execution_count": 126,
   "metadata": {},
   "outputs": [
    {
     "name": "stdout",
     "output_type": "stream",
     "text": [
      "PLZ8_ANTG3               0.220559\n",
      "PLZ8_ANTG4               0.213936\n",
      "WEALTH                   0.202568\n",
      "HH_EINKOMMEN_SCORE       0.200128\n",
      "ORTSGR_KLS9              0.190913\n",
      "EWDICHTE                 0.188592\n",
      "FINANZ_SPARER            0.154520\n",
      "FINANZ_HAUSBAUER         0.153177\n",
      "KBA05_ANTG4              0.150156\n",
      "PLZ8_ANTG2               0.148850\n",
      "ARBEIT                   0.139998\n",
      "KBA05_ANTG3              0.135331\n",
      "ANZ_HAUSHALTE_AKTIV      0.133971\n",
      "RELAT_AB                 0.129972\n",
      "SEMIO_PFLICHT            0.122180\n",
      "SEMIO_REL                0.119809\n",
      "DECADE                   0.115144\n",
      "MOVEMENT                 0.111274\n",
      "SEMIO_TRADV              0.105411\n",
      "SEMIO_RAT                0.101717\n",
      "SEMIO_MAT                0.089295\n",
      "SEMIO_FAM                0.085946\n",
      "FINANZ_UNAUFFAELLIGER    0.084971\n",
      "SEMIO_KULT               0.082344\n",
      "FINANZ_ANLEGER           0.073575\n",
      "REGIOTYP                 0.071430\n",
      "SEMIO_SOZ                0.049351\n",
      "KKK                      0.044167\n",
      "PLZ8_HHZ                 0.040486\n",
      "ANZ_HH_TITEL             0.032544\n",
      "                           ...   \n",
      "SEMIO_DOM                0.017267\n",
      "KBA05_ANTG2              0.011057\n",
      "ANREDE_KZ               -0.001219\n",
      "SEMIO_KRIT              -0.001486\n",
      "SOHO_KZ                 -0.001921\n",
      "ANZ_TITEL               -0.005247\n",
      "SEMIO_VERT              -0.028767\n",
      "RETOURTYP_BK_S          -0.029603\n",
      "ONLINE_AFFINITAET       -0.033379\n",
      "MIN_GEBAEUDEJAHR        -0.051670\n",
      "OST_WEST_KZ             -0.055968\n",
      "WOHNDAUER_2008          -0.067335\n",
      "KBA13_ANZAHL_PKW        -0.076423\n",
      "ANZ_PERSONEN            -0.080105\n",
      "SEMIO_LUST              -0.094183\n",
      "SEMIO_ERL               -0.095055\n",
      "GREEN_AVANTGARDE        -0.111456\n",
      "GEBAEUDETYP_RASTER      -0.113242\n",
      "BALLRAUM                -0.122262\n",
      "FINANZ_VORSORGER        -0.123962\n",
      "LIFE_STAGE              -0.124083\n",
      "ALTERSKATEGORIE_GROB    -0.134884\n",
      "INNENSTADT              -0.159198\n",
      "KONSUMNAEHE             -0.162496\n",
      "PLZ8_GBZ                -0.163809\n",
      "KBA05_GBZ               -0.213808\n",
      "FINANZ_MINIMALIST       -0.220879\n",
      "PLZ8_ANTG1              -0.220883\n",
      "KBA05_ANTG1             -0.222369\n",
      "MOBI_REGIO              -0.238608\n",
      "Name: 0, Length: 64, dtype: float64\n"
     ]
    }
   ],
   "source": [
    "# Map weights for the first principal component to corresponding feature names\n",
    "# and then print the linked values, sorted by weight.\n",
    "\n",
    "pca_comp1 = pca_weights(pca_25, 0)\n",
    "print (pca_comp1) \n"
   ]
  },
  {
   "cell_type": "markdown",
   "metadata": {},
   "source": [
    "**Dimension 1**\n",
    "\n",
    "- High positive:\n",
    "    - PLZ8_ANTG3               \n",
    "    - PLZ8_ANTG4               \n",
    "    - WEALTH                   \n",
    "- High negative:\n",
    "    - PLZ8_ANTG1              \n",
    "    - KBA05_ANTG1             \n",
    "    - MOBI_REGIO              \n",
    "\n",
    "From the first principal component, it can be seen that\n",
    "PLZ8_ANTG3 and PLZ8_ANTG4 have a positive correlation. The share of 10+ family homes and the share of 6-10 family homes for macro-cells tend to increase together.\n",
    "PLZ8_ANTG3 and WEALTH also posses a positive correlation. It shows that when the share of 6-10 family homes in a macro-cell increases, it tends to conist of more poor households.\n",
    "MOBI_REGIO and PLZ8_ANTG3 have a negative correlation. It means that when the share of 6-10 family homes in a macro-cell increases, it tends to have higher movements.\n"
   ]
  },
  {
   "cell_type": "code",
   "execution_count": 127,
   "metadata": {},
   "outputs": [
    {
     "name": "stdout",
     "output_type": "stream",
     "text": [
      "ALTERSKATEGORIE_GROB     0.252862\n",
      "SEMIO_ERL                0.227619\n",
      "FINANZ_VORSORGER         0.222246\n",
      "SEMIO_LUST               0.177401\n",
      "RETOURTYP_BK_S           0.162833\n",
      "FINANZ_HAUSBAUER         0.124517\n",
      "W_KEIT_KIND_HH           0.120012\n",
      "SEMIO_KRIT               0.119665\n",
      "SEMIO_KAEM               0.111907\n",
      "PLZ8_ANTG3               0.105115\n",
      "PLZ8_ANTG4               0.100659\n",
      "EWDICHTE                 0.100424\n",
      "ORTSGR_KLS9              0.099287\n",
      "ANREDE_KZ                0.089369\n",
      "WEALTH                   0.084074\n",
      "KBA05_ANTG4              0.077865\n",
      "ARBEIT                   0.073783\n",
      "PLZ8_ANTG2               0.071318\n",
      "RELAT_AB                 0.070405\n",
      "ANZ_HAUSHALTE_AKTIV      0.068288\n",
      "SEMIO_DOM                0.067190\n",
      "HH_EINKOMMEN_SCORE       0.063359\n",
      "WOHNDAUER_2008           0.054988\n",
      "KBA05_ANTG3              0.053290\n",
      "FINANZ_MINIMALIST        0.053102\n",
      "ANZ_HH_TITEL             0.031929\n",
      "VERS_TYP                 0.031354\n",
      "REGIOTYP                 0.025920\n",
      "MOVEMENT                 0.020672\n",
      "PLZ8_HHZ                 0.015453\n",
      "                           ...   \n",
      "KBA05_ANTG2             -0.007286\n",
      "GREEN_AVANTGARDE        -0.023042\n",
      "OST_WEST_KZ             -0.029842\n",
      "KBA13_ANZAHL_PKW        -0.039016\n",
      "MIN_GEBAEUDEJAHR        -0.043233\n",
      "GEBAEUDETYP_RASTER      -0.048079\n",
      "HEALTH_TYP              -0.054856\n",
      "BALLRAUM                -0.065831\n",
      "ANZ_PERSONEN            -0.066130\n",
      "SEMIO_VERT              -0.070912\n",
      "KONSUMNAEHE             -0.076296\n",
      "PLZ8_GBZ                -0.080312\n",
      "INNENSTADT              -0.081952\n",
      "KBA05_ANTG1             -0.093335\n",
      "SEMIO_SOZ               -0.101671\n",
      "KBA05_GBZ               -0.101924\n",
      "PLZ8_ANTG1              -0.102945\n",
      "MOBI_REGIO              -0.104045\n",
      "SEMIO_MAT               -0.153543\n",
      "ONLINE_AFFINITAET       -0.164190\n",
      "SEMIO_RAT               -0.167140\n",
      "SEMIO_FAM               -0.175989\n",
      "FINANZ_ANLEGER          -0.200987\n",
      "SEMIO_KULT              -0.215688\n",
      "FINANZ_UNAUFFAELLIGER   -0.220848\n",
      "SEMIO_TRADV             -0.224842\n",
      "FINANZ_SPARER           -0.227075\n",
      "SEMIO_PFLICHT           -0.227485\n",
      "DECADE                  -0.241140\n",
      "SEMIO_REL               -0.257100\n",
      "Name: 1, Length: 64, dtype: float64\n"
     ]
    }
   ],
   "source": [
    "# Map weights for the second principal component to corresponding feature names\n",
    "# and then print the linked values, sorted by weight.\n",
    "\n",
    "pca_comp2 = pca_weights(pca_25, 1)\n",
    "print (pca_comp2)\n"
   ]
  },
  {
   "cell_type": "markdown",
   "metadata": {},
   "source": [
    "**Dimension 2**\n",
    "\n",
    "- High positive:\n",
    "   - ALTERSKATEGORIE_GROB   \n",
    "   - SEMIO_ERL         \n",
    "   - FINANZ_VORSORGER                                 \n",
    "- High negative:\n",
    "    - SEMIO_REL      \n",
    "    - DECADE                       \n",
    "    - SEMIO_PFLICHT\n",
    "    \n",
    "The second dimentions shows a positive correlation of  ALTERSKATEGORIE_GROB and FINANZ_VORSORGER. That implies, that older people tend to care more about their financial safety in the future. Furthermore, this dimention shwos a negative correlation between the SEMIO_ERL and the SEMIO_REL features. This means that religious people tend to be less event-oriented."
   ]
  },
  {
   "cell_type": "code",
   "execution_count": 128,
   "metadata": {},
   "outputs": [
    {
     "name": "stdout",
     "output_type": "stream",
     "text": [
      "SEMIO_VERT               0.347969\n",
      "SEMIO_SOZ                0.263687\n",
      "SEMIO_FAM                0.251483\n",
      "SEMIO_KULT               0.233185\n",
      "FINANZ_MINIMALIST        0.157541\n",
      "RETOURTYP_BK_S           0.115810\n",
      "FINANZ_VORSORGER         0.099335\n",
      "W_KEIT_KIND_HH           0.092774\n",
      "ALTERSKATEGORIE_GROB     0.082916\n",
      "SEMIO_REL                0.080323\n",
      "SEMIO_LUST               0.074176\n",
      "SEMIO_MAT                0.052656\n",
      "GREEN_AVANTGARDE         0.049610\n",
      "EWDICHTE                 0.046177\n",
      "ORTSGR_KLS9              0.045971\n",
      "PLZ8_ANTG4               0.044074\n",
      "PLZ8_ANTG3               0.043483\n",
      "WOHNDAUER_2008           0.035284\n",
      "ARBEIT                   0.031425\n",
      "RELAT_AB                 0.030050\n",
      "PLZ8_ANTG2               0.029393\n",
      "KBA05_ANTG4              0.027595\n",
      "ANZ_HAUSHALTE_AKTIV      0.025547\n",
      "WEALTH                   0.024411\n",
      "VERS_TYP                 0.021614\n",
      "ANZ_HH_TITEL             0.013998\n",
      "ANZ_TITEL                0.010430\n",
      "KBA05_ANTG3              0.006450\n",
      "PLZ8_HHZ                 0.005862\n",
      "SOHO_KZ                  0.000282\n",
      "                           ...   \n",
      "OST_WEST_KZ             -0.011295\n",
      "HEALTH_TYP              -0.013650\n",
      "MIN_GEBAEUDEJAHR        -0.013877\n",
      "KKK                     -0.016241\n",
      "KBA13_ANZAHL_PKW        -0.020950\n",
      "KBA05_ANTG1             -0.022097\n",
      "HH_EINKOMMEN_SCORE      -0.023551\n",
      "KBA05_GBZ               -0.026248\n",
      "MOBI_REGIO              -0.028998\n",
      "GEBAEUDETYP_RASTER      -0.030002\n",
      "BALLRAUM                -0.034892\n",
      "PLZ8_GBZ                -0.035860\n",
      "KONSUMNAEHE             -0.037728\n",
      "INNENSTADT              -0.042335\n",
      "PLZ8_ANTG1              -0.043896\n",
      "FINANZ_HAUSBAUER        -0.046199\n",
      "MOVEMENT                -0.050195\n",
      "ONLINE_AFFINITAET       -0.056070\n",
      "SEMIO_PFLICHT           -0.076146\n",
      "SEMIO_TRADV             -0.087505\n",
      "FINANZ_UNAUFFAELLIGER   -0.093324\n",
      "FINANZ_SPARER           -0.102371\n",
      "DECADE                  -0.108299\n",
      "SEMIO_ERL               -0.170771\n",
      "FINANZ_ANLEGER          -0.188436\n",
      "SEMIO_RAT               -0.216161\n",
      "SEMIO_KRIT              -0.269010\n",
      "SEMIO_DOM               -0.312887\n",
      "SEMIO_KAEM              -0.337332\n",
      "ANREDE_KZ               -0.368600\n",
      "Name: 2, Length: 64, dtype: float64\n"
     ]
    }
   ],
   "source": [
    "# Map weights for the third principal component to corresponding feature names\n",
    "# and then print the linked values, sorted by weight.\n",
    "\n",
    "pca_comp3 = pca_weights(pca_25, 2)\n",
    "print (pca_comp3)\n"
   ]
  },
  {
   "cell_type": "markdown",
   "metadata": {},
   "source": [
    "**Dimension 3**\n",
    "\n",
    "- High positive:\n",
    "    - SEMIO_VERT      \n",
    "    - SEMIO_SOZ               \n",
    "    - SEMIO_FAM                                 \n",
    "- High negative:\n",
    "    - SEMIO_DOM       \n",
    "    - SEMIO_KAEM                        \n",
    "    - ANREDE_KZ   \n",
    "    \n",
    "The third dimention points out basically correlations between personality attributes. Whereas the socially minded people tend to also be more family minded and dreamful, they are less dominant-minded and not have a distinct combative mind. "
   ]
  },
  {
   "cell_type": "markdown",
   "metadata": {},
   "source": [
    "### Discussion 2.3: Interpret Principal Components\n",
    "\n",
    "Integrated in the cell structure above."
   ]
  },
  {
   "cell_type": "markdown",
   "metadata": {},
   "source": [
    "## Step 3: Clustering\n",
    "\n",
    "### Step 3.1: Apply Clustering to General Population\n",
    "\n",
    "You've assessed and cleaned the demographics data, then scaled and transformed them. Now, it's time to see how the data clusters in the principal components space. In this substep, you will apply k-means clustering to the dataset and use the average within-cluster distances from each point to their assigned cluster's centroid to decide on a number of clusters to keep.\n",
    "\n",
    "- Use sklearn's [KMeans](http://scikit-learn.org/stable/modules/generated/sklearn.cluster.KMeans.html#sklearn.cluster.KMeans) class to perform k-means clustering on the PCA-transformed data.\n",
    "- Then, compute the average difference from each point to its assigned cluster's center. **Hint**: The KMeans object's `.score()` method might be useful here, but note that in sklearn, scores tend to be defined so that larger is better. Try applying it to a small, toy dataset, or use an internet search to help your understanding.\n",
    "- Perform the above two steps for a number of different cluster counts. You can then see how the average distance decreases with an increasing number of clusters. However, each additional cluster provides a smaller net benefit. Use this fact to select a final number of clusters in which to group the data. **Warning**: because of the large size of the dataset, it can take a long time for the algorithm to resolve. The more clusters to fit, the longer the algorithm will take. You should test for cluster counts through at least 10 clusters to get the full picture, but you shouldn't need to test for a number of clusters above about 30.\n",
    "- Once you've selected a final number of clusters to use, re-fit a KMeans instance to perform the clustering operation. Make sure that you also obtain the cluster assignments for the general demographics data, since you'll be using them in the final Step 3.3."
   ]
  },
  {
   "cell_type": "code",
   "execution_count": 129,
   "metadata": {},
   "outputs": [],
   "source": [
    "kmeans_10 = KMeans(n_clusters=10).fit(pca_25_ft)"
   ]
  },
  {
   "cell_type": "code",
   "execution_count": 130,
   "metadata": {},
   "outputs": [
    {
     "data": {
      "text/plain": [
       "-21377961.405977707"
      ]
     },
     "execution_count": 130,
     "metadata": {},
     "output_type": "execute_result"
    }
   ],
   "source": [
    "kmeans_10.score(pca_25_ft)"
   ]
  },
  {
   "cell_type": "code",
   "execution_count": 131,
   "metadata": {},
   "outputs": [],
   "source": [
    "def k_mean_score(data, n_cluster):\n",
    "    kmeans = KMeans(n_clusters = n_cluster)\n",
    "    model = kmeans.fit(data)\n",
    "    score = np.abs(model.score(data))\n",
    "    return score"
   ]
  },
  {
   "cell_type": "code",
   "execution_count": 132,
   "metadata": {},
   "outputs": [],
   "source": [
    "scores = []\n",
    "ks = list(range(1,10))\n",
    "for k in ks:\n",
    "    scores.append(k_mean_score(pca_25_ft,k))"
   ]
  },
  {
   "cell_type": "code",
   "execution_count": 133,
   "metadata": {},
   "outputs": [
    {
     "data": {
      "text/plain": [
       "Text(0,0.5,'Average Distances')"
      ]
     },
     "execution_count": 133,
     "metadata": {},
     "output_type": "execute_result"
    },
    {
     "data": {
      "image/png": "[encoded data removed]",
      "text/plain": [
       "<matplotlib.figure.Figure at 0x7f3f241ce2e8>"
      ]
     },
     "metadata": {
      "needs_background": "light"
     },
     "output_type": "display_data"
    }
   ],
   "source": [
    "# Investigate the change in within-cluster distance across number of clusters.\n",
    "# HINT: Use matplotlib's plot function to visualize this relationship.\n",
    "\n",
    "plt.plot(ks, scores, linestyle='-', marker='o')\n",
    "plt.xlabel('k')\n",
    "plt.ylabel('Average Distances')\n"
   ]
  },
  {
   "cell_type": "code",
   "execution_count": 134,
   "metadata": {},
   "outputs": [],
   "source": [
    "# Re-fit the k-means model with the selected number of clusters and obtain\n",
    "# cluster predictions for the general population demographics data.\n",
    "\n",
    "kmeans = KMeans(n_clusters = 7)\n",
    "model_7 = kmeans.fit(pca_25_ft)\n",
    "azdias_pred = model_7.predict(pca_25_ft)\n"
   ]
  },
  {
   "cell_type": "markdown",
   "metadata": {},
   "source": [
    "### Discussion 3.1: Apply Clustering to General Population\n",
    "\n",
    "The curve for the clustering didn't have a sharp obvious change. The change from 6 to 7 seemed to be associated with a change to flattening, so I decided to use 87clusters."
   ]
  },
  {
   "cell_type": "markdown",
   "metadata": {},
   "source": [
    "### Step 3.2: Apply All Steps to the Customer Data\n",
    "\n",
    "Now that you have clusters and cluster centers for the general population, it's time to see how the customer data maps on to those clusters. Take care to not confuse this for re-fitting all of the models to the customer data. Instead, you're going to use the fits from the general population to clean, transform, and cluster the customer data. In the last step of the project, you will interpret how the general population fits apply to the customer data.\n",
    "\n",
    "- Don't forget when loading in the customers data, that it is semicolon (`;`) delimited.\n",
    "- Apply the same feature wrangling, selection, and engineering steps to the customer demographics using the `clean_data()` function you created earlier. (You can assume that the customer demographics data has similar meaning behind missing data patterns as the general demographics data.)\n",
    "- Use the sklearn objects from the general demographics data, and apply their transformations to the customers data. That is, you should not be using a `.fit()` or `.fit_transform()` method to re-fit the old objects, nor should you be creating new sklearn objects! Carry the data through the feature scaling, PCA, and clustering steps, obtaining cluster assignments for all of the data in the customer demographics data."
   ]
  },
  {
   "cell_type": "code",
   "execution_count": 135,
   "metadata": {},
   "outputs": [
    {
     "data": {
      "text/plain": [
       "(191652, 85)"
      ]
     },
     "execution_count": 135,
     "metadata": {},
     "output_type": "execute_result"
    }
   ],
   "source": [
    "# Load in the customer demographics data.\n",
    "customers = pd.read_csv('Udacity_CUSTOMERS_Subset.csv',sep=';')\n",
    "\n",
    "customers.shape"
   ]
  },
  {
   "cell_type": "code",
   "execution_count": 136,
   "metadata": {},
   "outputs": [],
   "source": [
    "# Apply preprocessing, feature transformation, and clustering from the general\n",
    "# demographics onto the customer data, obtaining cluster predictions for the\n",
    "# customer demographics data.\n",
    "\n",
    "customers_clean = clean_data(customers)"
   ]
  },
  {
   "cell_type": "code",
   "execution_count": 137,
   "metadata": {},
   "outputs": [
    {
     "name": "stdout",
     "output_type": "stream",
     "text": [
      "<class 'pandas.core.frame.DataFrame'>\n",
      "Int64Index: 134658 entries, 0 to 191651\n",
      "Data columns (total 64 columns):\n",
      "ALTERSKATEGORIE_GROB     134658 non-null int64\n",
      "ANREDE_KZ                134658 non-null int64\n",
      "FINANZ_MINIMALIST        134658 non-null int64\n",
      "FINANZ_SPARER            134658 non-null int64\n",
      "FINANZ_VORSORGER         134658 non-null int64\n",
      "FINANZ_ANLEGER           134658 non-null int64\n",
      "FINANZ_UNAUFFAELLIGER    134658 non-null int64\n",
      "FINANZ_HAUSBAUER         134658 non-null int64\n",
      "GREEN_AVANTGARDE         134658 non-null int64\n",
      "HEALTH_TYP               134658 non-null int64\n",
      "RETOURTYP_BK_S           131662 non-null float64\n",
      "SEMIO_SOZ                134658 non-null int64\n",
      "SEMIO_FAM                134658 non-null int64\n",
      "SEMIO_REL                134658 non-null int64\n",
      "SEMIO_MAT                134658 non-null int64\n",
      "SEMIO_VERT               134658 non-null int64\n",
      "SEMIO_LUST               134658 non-null int64\n",
      "SEMIO_ERL                134658 non-null int64\n",
      "SEMIO_KULT               134658 non-null int64\n",
      "SEMIO_RAT                134658 non-null int64\n",
      "SEMIO_KRIT               134658 non-null int64\n",
      "SEMIO_DOM                134658 non-null int64\n",
      "SEMIO_KAEM               134658 non-null int64\n",
      "SEMIO_PFLICHT            134658 non-null int64\n",
      "SEMIO_TRADV              134658 non-null int64\n",
      "SOHO_KZ                  134658 non-null float64\n",
      "VERS_TYP                 134658 non-null int64\n",
      "ANZ_PERSONEN             134658 non-null float64\n",
      "ANZ_TITEL                134658 non-null float64\n",
      "HH_EINKOMMEN_SCORE       134658 non-null float64\n",
      "W_KEIT_KIND_HH           128065 non-null float64\n",
      "WOHNDAUER_2008           134658 non-null float64\n",
      "ANZ_HAUSHALTE_AKTIV      134658 non-null float64\n",
      "ANZ_HH_TITEL             132651 non-null float64\n",
      "KONSUMNAEHE              134653 non-null float64\n",
      "MIN_GEBAEUDEJAHR         134658 non-null float64\n",
      "OST_WEST_KZ              134658 non-null int64\n",
      "KBA05_ANTG1              134658 non-null float64\n",
      "KBA05_ANTG2              134658 non-null float64\n",
      "KBA05_ANTG3              134658 non-null float64\n",
      "KBA05_ANTG4              134658 non-null float64\n",
      "KBA05_GBZ                134658 non-null float64\n",
      "BALLRAUM                 134633 non-null float64\n",
      "EWDICHTE                 134633 non-null float64\n",
      "INNENSTADT               134633 non-null float64\n",
      "GEBAEUDETYP_RASTER       134658 non-null float64\n",
      "KKK                      133516 non-null float64\n",
      "MOBI_REGIO               134658 non-null float64\n",
      "ONLINE_AFFINITAET        131662 non-null float64\n",
      "REGIOTYP                 133516 non-null float64\n",
      "KBA13_ANZAHL_PKW         134615 non-null float64\n",
      "PLZ8_ANTG1               134658 non-null float64\n",
      "PLZ8_ANTG2               134658 non-null float64\n",
      "PLZ8_ANTG3               134658 non-null float64\n",
      "PLZ8_ANTG4               134658 non-null float64\n",
      "PLZ8_HHZ                 134658 non-null float64\n",
      "PLZ8_GBZ                 134658 non-null float64\n",
      "ARBEIT                   134170 non-null float64\n",
      "ORTSGR_KLS9              134170 non-null float64\n",
      "RELAT_AB                 134152 non-null float64\n",
      "DECADE                   134658 non-null int64\n",
      "MOVEMENT                 134658 non-null int64\n",
      "WEALTH                   134359 non-null float64\n",
      "LIFE_STAGE               134359 non-null float64\n",
      "dtypes: float64(36), int64(28)\n",
      "memory usage: 66.8 MB\n"
     ]
    }
   ],
   "source": [
    "customers_clean.info()"
   ]
  },
  {
   "cell_type": "code",
   "execution_count": 138,
   "metadata": {},
   "outputs": [],
   "source": [
    "# Impute means\n",
    "customers_imputed = imputer.transform(customers_clean)\n",
    "# Standardize\n",
    "customers_standard = scaler.transform(customers_imputed)\n",
    "# Clustered \n",
    "customers_pca = pca_25.transform(customers_standard)"
   ]
  },
  {
   "cell_type": "code",
   "execution_count": 139,
   "metadata": {},
   "outputs": [],
   "source": [
    "# Predict using Kmeans model_4\n",
    "customers_pred = model_7.predict(customers_pca)"
   ]
  },
  {
   "cell_type": "markdown",
   "metadata": {},
   "source": [
    "### Step 3.3: Compare Customer Data to Demographics Data\n",
    "\n",
    "At this point, you have clustered data based on demographics of the general population of Germany, and seen how the customer data for a mail-order sales company maps onto those demographic clusters. In this final substep, you will compare the two cluster distributions to see where the strongest customer base for the company is.\n",
    "\n",
    "Consider the proportion of persons in each cluster for the general population, and the proportions for the customers. If we think the company's customer base to be universal, then the cluster assignment proportions should be fairly similar between the two. If there are only particular segments of the population that are interested in the company's products, then we should see a mismatch from one to the other. If there is a higher proportion of persons in a cluster for the customer data compared to the general population (e.g. 5% of persons are assigned to a cluster for the general population, but 15% of the customer data is closest to that cluster's centroid) then that suggests the people in that cluster to be a target audience for the company. On the other hand, the proportion of the data in a cluster being larger in the general population than the customer data (e.g. only 2% of customers closest to a population centroid that captures 6% of the data) suggests that group of persons to be outside of the target demographics.\n",
    "\n",
    "Take a look at the following points in this step:\n",
    "\n",
    "- Compute the proportion of data points in each cluster for the general population and the customer data. Visualizations will be useful here: both for the individual dataset proportions, but also to visualize the ratios in cluster representation between groups. Seaborn's [`countplot()`](https://seaborn.pydata.org/generated/seaborn.countplot.html) or [`barplot()`](https://seaborn.pydata.org/generated/seaborn.barplot.html) function could be handy.\n",
    "  - Recall the analysis you performed in step 1.1.3 of the project, where you separated out certain data points from the dataset if they had more than a specified threshold of missing values. If you found that this group was qualitatively different from the main bulk of the data, you should treat this as an additional data cluster in this analysis. Make sure that you account for the number of data points in this subset, for both the general population and customer datasets, when making your computations!\n",
    "- Which cluster or clusters are overrepresented in the customer dataset compared to the general population? Select at least one such cluster and infer what kind of people might be represented by that cluster. Use the principal component interpretations from step 2.3 or look at additional components to help you make this inference. Alternatively, you can use the `.inverse_transform()` method of the PCA and StandardScaler objects to transform centroids back to the original data space and interpret the retrieved values directly.\n",
    "- Perform a similar investigation for the underrepresented clusters. Which cluster or clusters are underrepresented in the customer dataset compared to the general population, and what kinds of people are typified by these clusters?"
   ]
  },
  {
   "cell_type": "code",
   "execution_count": 140,
   "metadata": {},
   "outputs": [
    {
     "data": {
      "text/plain": [
       "Text(0.5,1,'General Clusters')"
      ]
     },
     "execution_count": 140,
     "metadata": {},
     "output_type": "execute_result"
    },
    {
     "data": {
      "image/png": "[encoded data removed]",
      "text/plain": [
       "<matplotlib.figure.Figure at 0x7f3f242c5e48>"
      ]
     },
     "metadata": {
      "needs_background": "light"
     },
     "output_type": "display_data"
    }
   ],
   "source": [
    "# Compare the proportion of data in each cluster for the customer data to the\n",
    "# proportion of data in each cluster for the general population.\n",
    "\n",
    "figure, axs = plt.subplots(nrows=1, ncols=2, figsize = (10,5))\n",
    "figure.subplots_adjust(hspace = 1, wspace=.3)\n",
    "\n",
    "sns.countplot(customers_pred, ax=axs[0])\n",
    "axs[0].set_title('Customer Clusters')\n",
    "sns.countplot(azdias_pred, ax=axs[1])\n",
    "axs[1].set_title('General Clusters')\n"
   ]
  },
  {
   "cell_type": "code",
   "execution_count": 141,
   "metadata": {},
   "outputs": [
    {
     "data": {
      "text/plain": [
       "ALTERSKATEGORIE_GROB        1.784950\n",
       "ANREDE_KZ                   1.527249\n",
       "FINANZ_MINIMALIST           2.890177\n",
       "FINANZ_SPARER               3.944859\n",
       "FINANZ_VORSORGER            2.174744\n",
       "FINANZ_ANLEGER              4.202710\n",
       "FINANZ_UNAUFFAELLIGER       3.840071\n",
       "FINANZ_HAUSBAUER            2.299586\n",
       "GREEN_AVANTGARDE            0.265259\n",
       "HEALTH_TYP                  2.207143\n",
       "RETOURTYP_BK_S              2.444314\n",
       "SEMIO_SOZ                   4.385638\n",
       "SEMIO_FAM                   4.842326\n",
       "SEMIO_REL                   5.548944\n",
       "SEMIO_MAT                   5.011705\n",
       "SEMIO_VERT                  4.248376\n",
       "SEMIO_LUST                  3.138244\n",
       "SEMIO_ERL                   3.410574\n",
       "SEMIO_KULT                  5.282018\n",
       "SEMIO_RAT                   5.283008\n",
       "SEMIO_KRIT                  4.127416\n",
       "SEMIO_DOM                   4.541604\n",
       "SEMIO_KAEM                  3.986405\n",
       "SEMIO_PFLICHT               5.822270\n",
       "SEMIO_TRADV                 5.553932\n",
       "SOHO_KZ                     0.009373\n",
       "VERS_TYP                    1.472414\n",
       "ANZ_PERSONEN                2.184359\n",
       "ANZ_TITEL                   0.002304\n",
       "HH_EINKOMMEN_SCORE          3.722369\n",
       "                            ...     \n",
       "KONSUMNAEHE                 3.916402\n",
       "MIN_GEBAEUDEJAHR         1993.243946\n",
       "OST_WEST_KZ                 0.832005\n",
       "KBA05_ANTG1                 2.543615\n",
       "KBA05_ANTG2                 1.130981\n",
       "KBA05_ANTG3                 0.118795\n",
       "KBA05_ANTG4                 0.020546\n",
       "KBA05_GBZ                   4.135625\n",
       "BALLRAUM                    5.150452\n",
       "EWDICHTE                    2.714270\n",
       "INNENSTADT                  5.671533\n",
       "GEBAEUDETYP_RASTER          4.061162\n",
       "KKK                         2.680590\n",
       "MOBI_REGIO                  4.104153\n",
       "ONLINE_AFFINITAET           3.817306\n",
       "REGIOTYP                    4.184634\n",
       "KBA13_ANZAHL_PKW          690.707649\n",
       "PLZ8_ANTG1                  3.002347\n",
       "PLZ8_ANTG2                  2.249335\n",
       "PLZ8_ANTG3                  0.805557\n",
       "PLZ8_ANTG4                  0.169661\n",
       "PLZ8_HHZ                    3.424696\n",
       "PLZ8_GBZ                    3.951545\n",
       "ARBEIT                      2.653071\n",
       "ORTSGR_KLS9                 3.623184\n",
       "RELAT_AB                    2.331186\n",
       "DECADE                      5.710421\n",
       "MOVEMENT                    0.736246\n",
       "WEALTH                      2.301349\n",
       "LIFE_STAGE                  3.305113\n",
       "Length: 64, dtype: float64"
      ]
     },
     "execution_count": 141,
     "metadata": {},
     "output_type": "execute_result"
    }
   ],
   "source": [
    "# What kinds of people are part of a cluster that is overrepresented in the\n",
    "# customer data compared to the general population?\n",
    "\n",
    "centroid_6 = scaler.inverse_transform(pca_25.inverse_transform(model_7.cluster_centers_[6]))\n",
    "\n",
    "overrepresented_c = pd.Series(data = centroid_6, index = customers_clean.columns)\n",
    "\n",
    "overrepresented_c"
   ]
  },
  {
   "cell_type": "code",
   "execution_count": 142,
   "metadata": {},
   "outputs": [
    {
     "data": {
      "text/plain": [
       "ALTERSKATEGORIE_GROB        1.802570\n",
       "ANREDE_KZ                   0.945208\n",
       "FINANZ_MINIMALIST           2.017010\n",
       "FINANZ_SPARER               4.317519\n",
       "FINANZ_VORSORGER            2.122900\n",
       "FINANZ_ANLEGER              3.569233\n",
       "FINANZ_UNAUFFAELLIGER       3.767081\n",
       "FINANZ_HAUSBAUER            3.482015\n",
       "GREEN_AVANTGARDE            0.159227\n",
       "HEALTH_TYP                  2.325803\n",
       "RETOURTYP_BK_S              2.688736\n",
       "SEMIO_SOZ                   6.456273\n",
       "SEMIO_FAM                   6.702499\n",
       "SEMIO_REL                   6.259478\n",
       "SEMIO_MAT                   5.116588\n",
       "SEMIO_VERT                  6.106946\n",
       "SEMIO_LUST                  2.846100\n",
       "SEMIO_ERL                   2.082939\n",
       "SEMIO_KULT                  6.933620\n",
       "SEMIO_RAT                   4.102377\n",
       "SEMIO_KRIT                  2.662138\n",
       "SEMIO_DOM                   2.771804\n",
       "SEMIO_KAEM                  2.253867\n",
       "SEMIO_PFLICHT               5.609922\n",
       "SEMIO_TRADV                 4.901002\n",
       "SOHO_KZ                     0.008842\n",
       "VERS_TYP                    1.505966\n",
       "ANZ_PERSONEN                1.530434\n",
       "ANZ_TITEL                   0.001818\n",
       "HH_EINKOMMEN_SCORE          5.349529\n",
       "                            ...     \n",
       "KONSUMNAEHE                 2.257218\n",
       "MIN_GEBAEUDEJAHR         1992.426080\n",
       "OST_WEST_KZ                 0.715038\n",
       "KBA05_ANTG1                 0.575753\n",
       "KBA05_ANTG2                 1.404247\n",
       "KBA05_ANTG3                 1.064610\n",
       "KBA05_ANTG4                 0.540556\n",
       "KBA05_GBZ                   2.356195\n",
       "BALLRAUM                    3.375113\n",
       "EWDICHTE                    4.860956\n",
       "INNENSTADT                  3.627566\n",
       "GEBAEUDETYP_RASTER          3.432928\n",
       "KKK                         2.839233\n",
       "MOBI_REGIO                  1.971421\n",
       "ONLINE_AFFINITAET           3.071592\n",
       "REGIOTYP                    4.785698\n",
       "KBA13_ANZAHL_PKW          552.068587\n",
       "PLZ8_ANTG1                  1.615361\n",
       "PLZ8_ANTG2                  3.230387\n",
       "PLZ8_ANTG3                  2.254777\n",
       "PLZ8_ANTG4                  1.157618\n",
       "PLZ8_HHZ                    3.768195\n",
       "PLZ8_GBZ                    2.877091\n",
       "ARBEIT                      3.599119\n",
       "ORTSGR_KLS9                 6.605592\n",
       "RELAT_AB                    3.608286\n",
       "DECADE                      5.708593\n",
       "MOVEMENT                    0.840173\n",
       "WEALTH                      4.171644\n",
       "LIFE_STAGE                  2.176900\n",
       "Length: 64, dtype: float64"
      ]
     },
     "execution_count": 142,
     "metadata": {},
     "output_type": "execute_result"
    }
   ],
   "source": [
    "# What kinds of people are part of a cluster that is underrepresented in the\n",
    "# customer data compared to the general population?\n",
    "\n",
    "centroid_1 = scaler.inverse_transform(pca_25.inverse_transform(model_7.cluster_centers_[1]))\n",
    "\n",
    "underrepresented_c = pd.Series(data = centroid_1, index = customers_clean.columns)\n",
    "\n",
    "underrepresented_c\n"
   ]
  },
  {
   "cell_type": "markdown",
   "metadata": {},
   "source": [
    "### Discussion 3.3: Compare Customer Data to Demographics Data\n",
    "\n",
    "I chose to investigate two clusters more closer: Cluster 1, which is rather overrepresented in the customer data, whereas Cluster 6 ist more underrepresented in the customer data. Maybe some characteristcs of that clusters help to identify the key differences. The first one is the difference in ages: Cluster 6 posses a by far higher index in ALTERSKATEGORIE_GROB (3.314048) than Cluster 1 (1.784305). That leads to the conclusion that the people in Cluster 6 are rather older than the people in Cluster 1. Another very significant differnece between the two clusters in the financial mindset. While most of the people in Cluster 1 like to invest their money (FINANZ_ANLEGER 4.205290), the people in Cluster 6 have a low financial interest.(FINANZ_MINIMALIST 4.636533). If they have a financial interest, it is to be provided for the future. (FINANZ_VORSORGER 4.263663). A third difference, which seperates the two clusters from each other is the personality. While people in Cluster 1 are more rational (SEMIO_RAT 5.281536), the people of Cluster 6 are more dreamful (SEMIO_VERT 5.970645). Next to that, people of Cluster 1 are more dutyful (SEMIO_PFLICHT 5.827160) than the average in Cluster 6 (SEMIO_PFLICHT 3.294239).\n"
   ]
  },
  {
   "cell_type": "markdown",
   "metadata": {},
   "source": [
    "> Congratulations on making it this far in the project! Before you finish, make sure to check through the entire notebook from top to bottom to make sure that your analysis follows a logical flow and all of your findings are documented in **Discussion** cells. Once you've checked over all of your work, you should export the notebook as an HTML document to submit for evaluation. You can do this from the menu, navigating to **File -> Download as -> HTML (.html)**. You will submit both that document and this notebook for your project submission."
   ]
  }
 ],
 "metadata": {
  "kernelspec": {
   "display_name": "Python 3",
   "language": "python",
   "name": "python3"
  },
  "language_info": {
   "codemirror_mode": {
    "name": "ipython",
    "version": 3
   },
   "file_extension": ".py",
   "mimetype": "text/x-python",
   "name": "python",
   "nbconvert_exporter": "python",
   "pygments_lexer": "ipython3",
   "version": "3.6.3"
  }
 },
 "nbformat": 4,
 "nbformat_minor": 2
}
